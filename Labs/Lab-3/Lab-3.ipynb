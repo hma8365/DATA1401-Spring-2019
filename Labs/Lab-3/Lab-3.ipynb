{
 "cells": [
  {
   "cell_type": "markdown",
   "metadata": {},
   "source": [
    "# Lab 3\n",
    "\n",
    "## Submitting lab solutions\n",
    "\n",
    "At the end of the previous lab, you should have set up a \"Solutions\" directory in your home directory on TACC, with a fork of the class git repository that pull from Dr. Farbin's verison and pushes to your own fork. \n",
    "\n",
    "Open a terminal, navigate to your fork, and use `git remove -v` to verify that things are correctly setup.\n",
    "\n",
    "Your solutions to the lab 2 are either sitting in this fork, or in the first clone of the class repository that you made at the beginning of lab 2. \n",
    "\n",
    "Note that Jupyter tends to auto-save your work. But to make sure, it is a good habit to use the \"Save and Checkpoint\" command from the \"File\" menu whenever you are ending a session.\n",
    "\n",
    "Locate the your lab 2 notebook and copy and rename it into the same directory in your fork. \n",
    "\n",
    "For example:"
   ]
  },
  {
   "cell_type": "code",
<<<<<<< HEAD
   "execution_count": 31,
   "metadata": {},
   "outputs": [
    {
     "name": "stdout",
     "output_type": "stream",
     "text": [
      "cp: cannot stat ‘/home1/06205/hma8365/DATA1401-Spring-2019/Labs/Lab-3/Lab-3.ipynb’: No such file or directory\r\n"
     ]
    }
   ],
=======
   "execution_count": 2,
   "metadata": {},
   "outputs": [],
>>>>>>> cf411cccd7d497c9ffc01354fae695dc28a67b80
   "source": [
    "!cp ~/DATA1401-Spring-2019/Labs/Lab-3/Lab-3.ipynb ~/Solutions/DATA1401-Spring-2019/Labs/Lab-3/Lab-3-Solution.ipynb"
   ]
  },
  {
   "cell_type": "markdown",
   "metadata": {},
   "source": [
    "The reason we are renaming the file is due to a complication that you may experience when pulling updates into your fork. If a file was updated after your last pull and modifications, your modifications will likely cause a merge conflict, which can be a headache to resolve. Creating a new file side-steps this problem.\n",
    "\n",
    "Now that you have a new file in your fork, add the file into local repository:"
   ]
  },
  {
   "cell_type": "code",
<<<<<<< HEAD
   "execution_count": 8,
=======
   "execution_count": 3,
>>>>>>> cf411cccd7d497c9ffc01354fae695dc28a67b80
   "metadata": {
    "collapsed": true
   },
   "outputs": [],
   "source": [
    "!git add ~/Solutions/DATA1401-Spring-2019/Labs/Lab-3/Lab-3-Solution.ipynb"
   ]
  },
  {
   "cell_type": "markdown",
   "metadata": {},
   "source": [
    "You only need to add a file once. Next, commit this file to your local copy of the repository:"
   ]
  },
  {
   "cell_type": "code",
   "execution_count": null,
   "metadata": {
    "collapsed": true
   },
   "outputs": [],
   "source": [
    "!git commit -a -m \"My Lab 2 Solutions\""
   ]
  },
  {
   "cell_type": "markdown",
   "metadata": {},
   "source": [
    "You are required to provide a text message when commiting files, and the `-m` option is the nicest way to do it. If you do not supply a message, you will find yourself in a text editor (most likely vi) which is difficult to use and forced to enter a message.\n",
    "\n",
    "You will need to commit your changes every time you wish to submit any changes. So if you keep working or come back to a lab, make sure you commit your changes.\n",
    "\n",
    "Now that you committed your changes, you will need to push these changes to the fork of the package in your github account:"
   ]
  },
  {
   "cell_type": "code",
   "execution_count": null,
   "metadata": {
    "collapsed": true
   },
   "outputs": [],
   "source": [
    "!git push"
   ]
  },
  {
   "cell_type": "markdown",
   "metadata": {},
   "source": [
    "You will likely need to supply you git username and password.\n",
    "\n",
    "Your lab is now available for grading. Remember that unless you commit and push your work, it will not be seen.\n",
    "\n",
    "From now on, use this procedure to submit your solutions to labs, including the remainder of this lab. \n",
    "\n",
    "You can work in your Solutions directory if you like. But note that it may be a good practice to use the \"File\" menu to duplicate and remain labs when you first start. Besides letting you avoid having to do the copy later, you will have a copy of the original notebook, in case you delete something and can pull updates, in case of bug fixes."
   ]
  },
  {
   "cell_type": "markdown",
   "metadata": {},
   "source": [
    "## Python Programming\n",
    "\n",
    "In the remainder of this lab you will practice python by solving some simple exercises. \n",
    "\n",
    "*Exercise 1:* Write 2 functions `even(x)` and `odd(x)` that take an integer and returns True if the input is even or odd, otherwise returns False. Use cell below for your solution. Use the subsequent cell to demonstrate that your solution works. Feel free to add additional cell as needed using the \"+\" button on the button bar above. "
   ]
  },
  {
   "cell_type": "code",
<<<<<<< HEAD
   "execution_count": 11,
=======
   "execution_count": null,
>>>>>>> cf411cccd7d497c9ffc01354fae695dc28a67b80
   "metadata": {
    "collapsed": true
   },
   "outputs": [],
   "source": [
    "def isEven(x):\n",
    "    if x%2 == 0:\n",
    "        return True\n",
    "    else:\n",
    "        return False"
   ]
  },
  {
   "cell_type": "code",
<<<<<<< HEAD
   "execution_count": 12,
   "metadata": {},
   "outputs": [
    {
     "name": "stdout",
     "output_type": "stream",
     "text": [
      "True\n",
      "False\n"
     ]
    }
   ],
=======
   "execution_count": null,
   "metadata": {
    "collapsed": true
   },
   "outputs": [],
>>>>>>> cf411cccd7d497c9ffc01354fae695dc28a67b80
   "source": [
    "print isEven(24)\n",
    "\n",
    "print isEven(25)"
   ]
  },
  {
   "cell_type": "markdown",
   "metadata": {},
   "source": [
    "*Exercise 2:* Write a function that takes a list of numbers as input and returns a list of the subset of elements that are less that 10. Test your solution."
   ]
  },
  {
   "cell_type": "code",
<<<<<<< HEAD
   "execution_count": 50,
=======
   "execution_count": null,
>>>>>>> cf411cccd7d497c9ffc01354fae695dc28a67b80
   "metadata": {
    "collapsed": true
   },
   "outputs": [],
   "source": [
    "def lessThanTen(numList):\n",
    "    lst = list()\n",
    "    numList.sort()\n",
    "    for i in range(len(numList)):\n",
    "        if numList[i]<10:\n",
    "            lst.append(numList[i])\n",
    "    return lst"
   ]
  },
  {
   "cell_type": "code",
<<<<<<< HEAD
   "execution_count": 51,
   "metadata": {},
   "outputs": [
    {
     "name": "stdout",
     "output_type": "stream",
     "text": [
      "[19, 18, 17, 16, 15, 14, 13, 12, 11, 10, 9, 8, 7, 6, 5, 4, 3, 2, 1, 0]\n",
      "[0, 1, 2, 3, 4, 5, 6, 7, 8, 9]\n"
     ]
    }
   ],
=======
   "execution_count": null,
   "metadata": {
    "collapsed": true
   },
   "outputs": [],
>>>>>>> cf411cccd7d497c9ffc01354fae695dc28a67b80
   "source": [
    "lst = range(20)\n",
    "lst.sort(reverse = True)\n",
    "print lst\n",
    "lst1 = lessThanTen(lst)\n",
    "print lst1"
   ]
  },
  {
   "cell_type": "markdown",
   "metadata": {},
   "source": [
    "*Exercise 3:* Write a function that takes a number `x_max` as input and returns a function that performs the same task as exercise 2, but for `x_max` instead of 10."
   ]
  },
  {
   "cell_type": "code",
<<<<<<< HEAD
   "execution_count": 49,
=======
   "execution_count": null,
>>>>>>> cf411cccd7d497c9ffc01354fae695dc28a67b80
   "metadata": {
    "collapsed": true
   },
   "outputs": [],
   "source": [
    "def lessThanX(numList, x_max):\n",
    "    lst = list()\n",
    "    numList.sort()\n",
    "    for i in range(len(numList)):\n",
    "        if numList[i]<x_max:\n",
    "            lst.append(numList[i])\n",
    "    return lst"
   ]
  },
  {
   "cell_type": "code",
<<<<<<< HEAD
   "execution_count": 54,
   "metadata": {},
   "outputs": [
    {
     "name": "stdout",
     "output_type": "stream",
     "text": [
      "[29, 28, 27, 26, 25, 24, 23, 22, 21, 20, 19, 18, 17, 16, 15, 14, 13, 12, 11, 10, 9, 8, 7, 6, 5, 4, 3, 2, 1, 0]\n",
      "[0, 1, 2, 3, 4, 5, 6, 7, 8, 9, 10, 11, 12, 13, 14, 15, 16, 17, 18, 19, 20, 21, 22, 23, 24, 25, 26]\n"
     ]
    }
   ],
=======
   "execution_count": null,
   "metadata": {
    "collapsed": true
   },
   "outputs": [],
>>>>>>> cf411cccd7d497c9ffc01354fae695dc28a67b80
   "source": [
    "lst2 = range(30)\n",
    "lst2.sort(reverse= True)\n",
    "print lst2\n",
    "x_max = 27\n",
    "lst3 = lessThanX(lst2, x_max)\n",
    "print(lst3)"
   ]
  },
  {
   "cell_type": "markdown",
   "metadata": {},
   "source": [
    "*Exercise 4:* Write a function that takes an interger as input and returns a list of all divisors of that number."
   ]
  },
  {
   "cell_type": "code",
<<<<<<< HEAD
   "execution_count": 61,
=======
   "execution_count": null,
>>>>>>> cf411cccd7d497c9ffc01354fae695dc28a67b80
   "metadata": {
    "collapsed": true
   },
   "outputs": [],
   "source": [
    "def factors(num):\n",
    "    lst = list()\n",
    "    for i in range(1,(num/2)+1):\n",
    "        if num%i == 0:\n",
    "            lst.append(i)\n",
    "    lst.append(num) \n",
    "    return lst"
   ]
  },
  {
   "cell_type": "code",
<<<<<<< HEAD
   "execution_count": 64,
   "metadata": {},
   "outputs": [
    {
     "name": "stdout",
     "output_type": "stream",
     "text": [
      "[1, 2, 3, 4, 6, 8, 9, 12, 16, 18, 24, 36, 48, 72, 144]\n"
     ]
    }
   ],
=======
   "execution_count": null,
   "metadata": {
    "collapsed": true
   },
   "outputs": [],
>>>>>>> cf411cccd7d497c9ffc01354fae695dc28a67b80
   "source": [
    "listylist = factors(144)\n",
    "print listylist"
   ]
  },
  {
   "cell_type": "markdown",
   "metadata": {},
   "source": [
    "*Exercise 5:* Write a function that takes 2 lists as input and returns a list that contains only the elements that are common between the lists (without duplicates). Make sure your program works on two lists of different sizes."
   ]
  },
  {
   "cell_type": "code",
<<<<<<< HEAD
   "execution_count": 73,
=======
   "execution_count": null,
>>>>>>> cf411cccd7d497c9ffc01354fae695dc28a67b80
   "metadata": {
    "collapsed": true
   },
   "outputs": [],
   "source": [
    "def intersec(lst1, lst2):\n",
    "    newlst = list()\n",
    "    for i in range(len(lst1)):\n",
    "        for j in range(len(lst2)):\n",
    "            if lst1[i] == lst2[j]:\n",
    "                newlst.append(lst1[i])\n",
    "    return newlst"
   ]
  },
  {
   "cell_type": "code",
<<<<<<< HEAD
   "execution_count": 74,
   "metadata": {},
   "outputs": [
    {
     "name": "stdout",
     "output_type": "stream",
     "text": [
      "['hello', 'yay']\n"
     ]
    }
   ],
=======
   "execution_count": null,
   "metadata": {
    "collapsed": true
   },
   "outputs": [],
>>>>>>> cf411cccd7d497c9ffc01354fae695dc28a67b80
   "source": [
    "words = ('hello', 'yay', 'today')\n",
    "otherwords = ('hello', 'yay', 'not','school','whoopdidoo')\n",
    "\n",
    "print intersec(words, otherwords)"
   ]
  },
  {
   "cell_type": "markdown",
   "metadata": {},
   "source": [
    "*Exercise 6:* Write a function that takes a string and returns `True` if the string is a palindrome. (A palindrome is a string that reads the same forwards and backwards.)"
   ]
  },
  {
   "cell_type": "code",
<<<<<<< HEAD
   "execution_count": 15,
=======
   "execution_count": null,
>>>>>>> cf411cccd7d497c9ffc01354fae695dc28a67b80
   "metadata": {
    "collapsed": true
   },
   "outputs": [],
   "source": [
    "def palin(string0):\n",
    "    x = list(string0)\n",
    "    n = len(x)\n",
    "    counter = 0\n",
    "    if(n%2==0):\n",
    "        for i in range(n/2):\n",
    "            if(x[i]==x[n-1-i]):\n",
    "                counter = counter+1\n",
    "        if(counter == n/2):\n",
    "            return True\n",
    "        else: \n",
    "            return False\n",
    "    else:\n",
    "        for i in range((n-1)/2):\n",
    "            if(x[i]==x[n-1-i]):\n",
    "                counter=counter+1\n",
    "        if(counter == (n-1)/2):\n",
    "            return True\n",
    "        else:\n",
    "            return False"
   ]
  },
  {
   "cell_type": "code",
<<<<<<< HEAD
   "execution_count": 16,
   "metadata": {},
   "outputs": [
    {
     "name": "stdout",
     "output_type": "stream",
     "text": [
      "True\n",
      "False\n"
     ]
    }
   ],
=======
   "execution_count": null,
   "metadata": {
    "collapsed": true
   },
   "outputs": [],
>>>>>>> cf411cccd7d497c9ffc01354fae695dc28a67b80
   "source": [
    "string0 = \"hannah\"\n",
    "print palin(string0)\n",
    "string1 = \"james\"\n",
    "print palin(string1)"
   ]
  },
  {
   "cell_type": "markdown",
   "metadata": {},
   "source": [
    "*Exercise 7:* Write a Rock-Paper-Scissors game function, that takes 2 strings, the inputs of player 1 and player 2, and output 1 or 2 corresponding to which player wins, or 0 if draw.\n",
    "\n",
    "Implement a Rock-Paper-Scissors game by soliciting input from 2 players, testing with this function, and repeating if there is a draw.\n",
    "\n",
    "Remember the rules:\n",
    "\n",
    "* Rock beats scissors\n",
    "* Scissors beats paper\n",
    "* Paper beats rock"
   ]
  },
  {
   "cell_type": "code",
<<<<<<< HEAD
   "execution_count": 2,
=======
   "execution_count": null,
>>>>>>> cf411cccd7d497c9ffc01354fae695dc28a67b80
   "metadata": {
    "collapsed": true
   },
   "outputs": [],
   "source": [
    "def rps(pl1, pl2):\n",
    "        pl1 = pl1.lower()\n",
    "        pl2 = pl2.lower()\n",
    "        if pl1 == 'rock' and pl2 == 'scissors' or pl1 == 'paper' and pl2 == 'rock' or pl1 == 'scissors' and pl2 == 'paper':\n",
    "            return 1\n",
    "        elif pl1 == 'scissors' and pl2 == 'rock' or pl1 == 'rock' and pl2 == 'paper' or pl1 == 'paper' and pl2 == 'scissors':\n",
    "            return 2\n",
    "        else:\n",
    "            return 0"
   ]
  },
  {
   "cell_type": "code",
<<<<<<< HEAD
   "execution_count": 3,
   "metadata": {},
   "outputs": [
    {
     "name": "stdout",
     "output_type": "stream",
     "text": [
      "Player 1 RPS: Rock\n",
      "Player 2 RPS: Rock\n",
      "Draw, shoot again!\n",
      "Player 1 RPS: Paper\n",
      "Player 2 RPS: paper\n",
      "Draw, shoot again!\n",
      "Player 1 RPS: scissors\n",
      "Player 2 RPS: ScISsors\n",
      "Draw, shoot again!\n",
      "Player 1 RPS: rock\n",
      "Player 2 RPS: scissors\n",
      "Player 1 Wins!\n"
     ]
    }
   ],
=======
   "execution_count": null,
   "metadata": {
    "collapsed": true
   },
   "outputs": [],
>>>>>>> cf411cccd7d497c9ffc01354fae695dc28a67b80
   "source": [
    "i = 0\n",
    "while i==0:\n",
    "    play1 = raw_input('Player 1 RPS: ')\n",
    "    play2 = raw_input('Player 2 RPS: ')\n",
    "    i = rps(play1, play2)\n",
    "    if i == 0:\n",
    "        print \"Draw, shoot again!\"\n",
    "print \"Player\",i,\"Wins!\""
   ]
  },
  {
   "cell_type": "markdown",
   "metadata": {},
   "source": [
    "*Exercise 8:* Write a function that takes a integer `n` as input and \n",
    "outputs a list of the first `n` Fibonnaci numbers.\n",
    "\n",
    "The Fibonnaci seqence is a sequence of numbers where the next number in the sequence is the sum of the previous two numbers in the sequence. The sequence looks like this: 1, 1, 2, 3, 5, 8, 13, …)"
   ]
  },
  {
   "cell_type": "code",
<<<<<<< HEAD
   "execution_count": 57,
=======
   "execution_count": null,
>>>>>>> cf411cccd7d497c9ffc01354fae695dc28a67b80
   "metadata": {
    "collapsed": true
   },
   "outputs": [],
   "source": [
    "def fib(x):\n",
    "    if x<=0:\n",
    "        x = raw_input('Invalid entry, enter again: ')\n",
    "    k = 1\n",
    "    fibs = list()\n",
    "    fibs.append(k)\n",
    "    if x==1:\n",
    "        return fibs\n",
    "    fibs.append(k)\n",
    "    if x==2:\n",
    "        return fibs\n",
    "    else:\n",
    "        for i in range(x-2):\n",
    "            fibs.append(fibs[i] + fibs[i+1])\n",
    "    return fibs"
   ]
  },
  {
   "cell_type": "code",
<<<<<<< HEAD
   "execution_count": 55,
   "metadata": {},
   "outputs": [
    {
     "name": "stdout",
     "output_type": "stream",
     "text": [
      "[1]\n",
      "[1, 1]\n",
      "[1, 1, 2]\n",
      "[1, 1, 2, 3]\n",
      "[1, 1, 2, 3, 5]\n",
      "[1, 1, 2, 3, 5, 8]\n",
      "[1, 1, 2, 3, 5, 8, 13]\n"
     ]
    }
   ],
=======
   "execution_count": null,
   "metadata": {
    "collapsed": true
   },
   "outputs": [],
>>>>>>> cf411cccd7d497c9ffc01354fae695dc28a67b80
   "source": [
    "for i in range(7):\n",
    "    print fib((i+1))"
   ]
  },
  {
   "cell_type": "markdown",
   "metadata": {},
   "source": [
    "*Exercise 9:* Write a function that takes a string of consisting of several words and returns a string that reverses the order of the words.\n"
   ]
  },
  {
   "cell_type": "code",
<<<<<<< HEAD
   "execution_count": 77,
=======
   "execution_count": null,
>>>>>>> cf411cccd7d497c9ffc01354fae695dc28a67b80
   "metadata": {
    "collapsed": true
   },
   "outputs": [],
   "source": [
    "def rev(sentence):\n",
    "    words = sentence.split()\n",
    "    newwords = list()\n",
    "    for i in range(len(words)):\n",
    "        newwords.append(words[-(i+1)])\n",
    "    return ' '.join(newwords)"
   ]
  },
  {
   "cell_type": "code",
<<<<<<< HEAD
   "execution_count": 80,
   "metadata": {},
   "outputs": [
    {
     "name": "stdout",
     "output_type": "stream",
     "text": [
      "dog lazy the over jumped fox brown quick The\n"
     ]
    }
   ],
=======
   "execution_count": null,
   "metadata": {
    "collapsed": true
   },
   "outputs": [],
>>>>>>> cf411cccd7d497c9ffc01354fae695dc28a67b80
   "source": [
    "print rev(\"The quick brown fox jumped over the lazy dog\")"
   ]
  },
  {
   "cell_type": "markdown",
   "metadata": {},
   "source": [
    "*Exercise 11:* Write a guessing game program that will repeatedly guess a number that the users picks, with the user indicating higher or lower, until it correctly guesses the number."
   ]
  },
  {
   "cell_type": "code",
<<<<<<< HEAD
   "execution_count": 4,
=======
   "execution_count": null,
>>>>>>> cf411cccd7d497c9ffc01354fae695dc28a67b80
   "metadata": {
    "collapsed": true
   },
   "outputs": [],
   "source": [
    "import random\n",
    "def guess():\n",
    "    x = raw_input('Enter lower bound of range within which to guess: ')\n",
    "    x = int(x)\n",
    "    y = raw_input('Enter upper bound of range within which to guess: ')\n",
    "    y = int(y)\n",
    "    z = random.randint(x,y)\n",
    "    i = 1\n",
    "    while i:\n",
    "        print z\n",
    "        resp = raw_input('Higher, Lower, or did I guess correctly? ').lower()\n",
    "        if resp == 'higher':\n",
    "            z = z + random.randint(0,y-z)\n",
    "        elif resp == 'lower':\n",
    "            z = z - random.randint(0,z-x)\n",
    "        elif resp == 'correct':\n",
    "            i=0 \n",
    "            continue"
   ]
  },
  {
   "cell_type": "code",
<<<<<<< HEAD
   "execution_count": 7,
   "metadata": {},
   "outputs": [
    {
     "name": "stdout",
     "output_type": "stream",
     "text": [
      "Enter lower bound of range within which to guess: 0\n",
      "Enter upper bound of range within which to guess: 30\n",
      "6\n",
      "Higher, Lower, or did I guess correctly? higher\n",
      "22\n",
      "Higher, Lower, or did I guess correctly? higher\n",
      "25\n",
      "Higher, Lower, or did I guess correctly? correct\n"
     ]
    }
   ],
=======
   "execution_count": null,
   "metadata": {
    "collapsed": true
   },
   "outputs": [],
>>>>>>> cf411cccd7d497c9ffc01354fae695dc28a67b80
   "source": [
    "myguess = 25\n",
    "guess()"
   ]
  },
  {
   "cell_type": "markdown",
   "metadata": {},
   "source": [
    "*Exercise 10:* Write a function that takes 2 integers `n` and `m` as input and draws a `n` by `m` game board. For example the following is a 3x3 board:\n",
    "```\n",
    "   --- --- --- \n",
    "  |   |   |   | \n",
    "   --- --- ---  \n",
    "  |   |   |   | \n",
    "   --- --- ---  \n",
    "  |   |   |   | \n",
    "   --- --- --- \n",
    "   ```"
   ]
  },
  {
   "cell_type": "code",
<<<<<<< HEAD
   "execution_count": 33,
=======
   "execution_count": null,
>>>>>>> cf411cccd7d497c9ffc01354fae695dc28a67b80
   "metadata": {
    "collapsed": true
   },
   "outputs": [],
   "source": [
    "def gameBoard(n,m):\n",
    "    hor = \"---\"\n",
    "    vert = \"|\"\n",
    "    horlst = list()\n",
    "    vertlst = list()\n",
    "    for i in range(m):\n",
    "        horlst.append(hor)\n",
    "    for i in range((m+1)):\n",
    "        vertlst.append(vert)\n",
    "    horlst = ' '.join(horlst)\n",
    "    vertlst = '   '.join(vertlst)\n",
    "    print '',horlst\n",
    "    for i in range(n):\n",
    "        print vertlst\n",
    "        print '',horlst"
   ]
  },
  {
   "cell_type": "code",
<<<<<<< HEAD
   "execution_count": 42,
   "metadata": {},
   "outputs": [
    {
     "name": "stdout",
     "output_type": "stream",
     "text": [
      " ---\n",
      "|   |\n",
      " ---\n",
      "************************\n",
      " --- ---\n",
      "|   |   |\n",
      " --- ---\n",
      "|   |   |\n",
      " --- ---\n",
      "************************\n",
      " --- --- ---\n",
      "|   |   |   |\n",
      " --- --- ---\n",
      "|   |   |   |\n",
      " --- --- ---\n",
      "|   |   |   |\n",
      " --- --- ---\n",
      "************************\n",
      " --- --- --- --- --- --- ---\n",
      "|   |   |   |   |   |   |   |\n",
      " --- --- --- --- --- --- ---\n",
      "|   |   |   |   |   |   |   |\n",
      " --- --- --- --- --- --- ---\n",
      "|   |   |   |   |   |   |   |\n",
      " --- --- --- --- --- --- ---\n",
      "|   |   |   |   |   |   |   |\n",
      " --- --- --- --- --- --- ---\n",
      "************************\n",
      " --- ---\n",
      "|   |   |\n",
      " --- ---\n",
      "|   |   |\n",
      " --- ---\n",
      "|   |   |\n",
      " --- ---\n",
      "|   |   |\n",
      " --- ---\n",
      "|   |   |\n",
      " --- ---\n"
     ]
    }
   ],
=======
   "execution_count": null,
   "metadata": {
    "collapsed": true
   },
   "outputs": [],
>>>>>>> cf411cccd7d497c9ffc01354fae695dc28a67b80
   "source": [
    "gameBoard(1,1)\n",
    "print \"************************\"\n",
    "gameBoard(2,2)\n",
    "print \"************************\"\n",
    "gameBoard(3,3)\n",
    "print \"************************\"\n",
    "gameBoard(4,7)\n",
    "print \"************************\"\n",
    "gameBoard(5,2)"
   ]
  },
  {
   "cell_type": "markdown",
   "metadata": {},
   "source": [
    "*Exercise 11:* Write a function that takes a `n` by `n` matrix representing a tic-tac-toe game, and return -1, 0, 1, or 2 indicating the game is incomplete, the game is a draw, player 1 has won, or player 2 has one, respectively. Here are some example inputs:"
   ]
  },
  {
   "cell_type": "code",
<<<<<<< HEAD
   "execution_count": 6,
=======
   "execution_count": 4,
>>>>>>> cf411cccd7d497c9ffc01354fae695dc28a67b80
   "metadata": {
    "collapsed": true
   },
   "outputs": [],
   "source": [
    "winner_is_2 = [[2, 2, 0],\n",
    "\t[2, 1, 0],\n",
    "\t[2, 1, 1]]\n",
    "\n",
    "winner_is_1 = [[1, 2, 0],\n",
    "\t[2, 1, 0],\n",
    "\t[2, 1, 1]]\n",
    "\n",
    "winner_is_also_1 = [[0, 1, 0],\n",
    "\t[2, 1, 0],\n",
    "\t[2, 1, 1]]\n",
    "\n",
    "no_winner = [[1, 2, 0],\n",
    "\t[2, 1, 0],\n",
    "\t[2, 1, 2]]\n",
    "\n",
    "also_no_winner = [[1, 2, 0],\n",
    "\t[2, 1, 0],\n",
    "\t[2, 1, 0]]"
   ]
  },
  {
   "cell_type": "code",
<<<<<<< HEAD
   "execution_count": 7,
=======
   "execution_count": null,
>>>>>>> cf411cccd7d497c9ffc01354fae695dc28a67b80
   "metadata": {
    "collapsed": true
   },
   "outputs": [],
   "source": [
    "def ttt(x):\n",
    "    winner = 0\n",
    "    for i in range(len(x[1])):\n",
    "        if x[i][0] == 1 and x[i][1] == 1 and x[i][2] == 1\\\n",
    "        or x[0][i] == 1 and x[1][i] == 1 and x[2][i] == 1:\n",
    "            winner = 1\n",
    "        elif x[i][0] == 2 and x[i][1] == 2 and x[i][2] == 2\\\n",
    "        or x[0][i] == 2 and x[1][i] == 2 and x[2][i] == 2:\n",
    "            winner = 2\n",
    "    if x[0][0] == 1 and x[1][1] == 1 and x[2][2] == 1\\\n",
    "    or x[0][2] == 1 and x[1][1] == 1 and x[2][0] == 1:\n",
    "        winner = 1\n",
    "    elif x[0][0] == 2 and x[1][1] == 2 and x[2][2] == 2\\\n",
    "    or x[0][2] == 2 and x[1][1] == 2 and x[2][0] == 2:\n",
    "        winner = 2\n",
    "    return winner"
   ]
  },
  {
   "cell_type": "code",
<<<<<<< HEAD
   "execution_count": 8,
   "metadata": {},
   "outputs": [
    {
     "name": "stdout",
     "output_type": "stream",
     "text": [
      "Winner of this match is Player 2\n",
      "Winner of this match is Player 1\n",
      "Winner of this match is Player 1\n",
      "0 means no winner today!\n",
      "0 means no winner today!\n"
     ]
    }
   ],
=======
   "execution_count": null,
   "metadata": {
    "collapsed": true
   },
   "outputs": [],
>>>>>>> cf411cccd7d497c9ffc01354fae695dc28a67b80
   "source": [
    "print \"Winner of this match is Player\",ttt(winner_is_2)\n",
    "print \"Winner of this match is Player\",ttt(winner_is_1)\n",
    "print \"Winner of this match is Player\",ttt(winner_is_also_1)\n",
    "print ttt(no_winner),\"means no winner today!\"\n",
    "print ttt(also_no_winner),\"means no winner today!\""
   ]
  },
  {
   "cell_type": "markdown",
   "metadata": {},
   "source": [
    "*Exercise 12:* Modify exercise 10, so that it takes a matrix of the form from exercise 11 and draws a tic-tac-tie board with \"X\"s and \"O\"s.  "
   ]
  },
  {
   "cell_type": "code",
<<<<<<< HEAD
   "execution_count": 17,
   "metadata": {},
=======
   "execution_count": null,
   "metadata": {
    "collapsed": true
   },
>>>>>>> cf411cccd7d497c9ffc01354fae695dc28a67b80
   "outputs": [],
   "source": [
    "player_1_piece=\"X\"\n",
    "player_2_piece=\"O\"\n",
    "empty_space=\" \"\n",
    "\n",
    "def space_character(player):\n",
    "    if player==1:\n",
    "        return player_1_piece\n",
    "    elif player==2:\n",
    "        return player_2_piece\n",
    "    else:\n",
    "        return empty_space\n",
    "    \n",
    "def draw_board(x):\n",
    "    hor = \"---\"\n",
    "    vert = \"|\"\n",
    "    horlst = list()\n",
    "    vertlst1 = list()\n",
    "    vertlst2 = list()\n",
    "    vertlst3 = list()\n",
    "    for i in range(3):\n",
    "        horlst.append(hor)\n",
    "    for i in range(3):\n",
    "        vertlst1.append(vert)\n",
    "        vertlst1.append(space_character(x[0][i]))\n",
    "        vertlst2.append(vert)\n",
    "        vertlst2.append(space_character(x[1][i]))\n",
    "        vertlst3.append(vert)\n",
    "        vertlst3.append(space_character(x[2][i]))\n",
    "    vertlst1.append(vert)\n",
    "    vertlst2.append(vert)\n",
    "    vertlst3.append(vert)\n",
    "    horlst = ' '.join(horlst)\n",
    "    vertlst1 = ' '.join(vertlst1)\n",
    "    vertlst2 = ' '.join(vertlst2)\n",
    "    vertlst3 = ' '.join(vertlst3)\n",
    "    \n",
    "    print '',horlst\n",
    "    print vertlst1\n",
    "    print '',horlst\n",
    "    print vertlst2\n",
    "    print '',horlst\n",
    "    print vertlst3\n",
    "    print '',horlst"
   ]
  },
  {
   "cell_type": "code",
<<<<<<< HEAD
   "execution_count": 20,
   "metadata": {},
   "outputs": [
    {
     "name": "stdout",
     "output_type": "stream",
     "text": [
      "*******************************\n",
      " --- --- ---\n",
      "| O | O |   |\n",
      " --- --- ---\n",
      "| O | X |   |\n",
      " --- --- ---\n",
      "| O | X | X |\n",
      " --- --- ---\n",
      "*******************************\n",
      " --- --- ---\n",
      "| X | O |   |\n",
      " --- --- ---\n",
      "| O | X |   |\n",
      " --- --- ---\n",
      "| O | X | X |\n",
      " --- --- ---\n",
      "*******************************\n",
      " --- --- ---\n",
      "|   | X |   |\n",
      " --- --- ---\n",
      "| O | X |   |\n",
      " --- --- ---\n",
      "| O | X | X |\n",
      " --- --- ---\n",
      "*******************************\n",
      " --- --- ---\n",
      "| X | O |   |\n",
      " --- --- ---\n",
      "| O | X |   |\n",
      " --- --- ---\n",
      "| O | X | O |\n",
      " --- --- ---\n",
      "*******************************\n",
      " --- --- ---\n",
      "| X | O |   |\n",
      " --- --- ---\n",
      "| O | X |   |\n",
      " --- --- ---\n",
      "| O | X |   |\n",
      " --- --- ---\n"
     ]
    }
   ],
=======
   "execution_count": null,
   "metadata": {
    "collapsed": true
   },
   "outputs": [],
>>>>>>> cf411cccd7d497c9ffc01354fae695dc28a67b80
   "source": [
    "print \"*******************************\"\n",
    "draw_board(winner_is_2)\n",
    "print \"*******************************\"\n",
    "draw_board(winner_is_1)\n",
    "print \"*******************************\"\n",
    "draw_board(winner_is_also_1)\n",
    "print \"*******************************\"\n",
    "draw_board(no_winner)\n",
    "print \"*******************************\"\n",
    "draw_board(also_no_winner)"
   ]
  },
  {
   "cell_type": "markdown",
   "metadata": {},
   "source": [
    "*Exercise 12:* Use the two previous exercises to implement a full tic-tac-toe game, where 2 players are repeatedly asked for x and y coordinates of where they wish to place a mark, an appropriate board is drawn, and the game status is checked until a player wins or a draw occurs."
   ]
  },
  {
   "cell_type": "code",
<<<<<<< HEAD
   "execution_count": 28,
   "metadata": {},
=======
   "execution_count": null,
   "metadata": {
    "collapsed": true
   },
>>>>>>> cf411cccd7d497c9ffc01354fae695dc28a67b80
   "outputs": [],
   "source": [
    "def tictactoe():\n",
    "    pregame = [[0,0,0],[0,0,0],[0,0,0]]\n",
    "    game = pregame\n",
    "    i = 1\n",
    "    print \"Welcome to TIC TAC TOE\"\n",
    "    print \"Player1 represented by X, Player w represented by O.\"\n",
    "    for i in range(4):\n",
    "        x = int(raw_input(\"Player 1: in which x coordinate would you like to play your piece? \"))\n",
    "        y = int(raw_input(\"Player 1: in which y coordinate would you like to play your piece? \"))\n",
    "        if game[x][y]==0:\n",
    "            game[x][y]=1\n",
    "        else:\n",
    "            k = True\n",
    "            while k:\n",
    "                x = int(raw_input(\"Player 1: Piece already here, enter new x coordinate: \"))\n",
    "                y = int(raw_input(\"Player 1: Enter new y coordinate: \"))\n",
    "                if game[x][y]==0:\n",
    "                    game[x][y]=1\n",
    "                    k = False\n",
    "        draw_board(game)\n",
    "        if ttt(game) != 0:\n",
    "            break\n",
    "        a = int(raw_input(\"Player 2: in which x coordinate would you like to play your piece? \"))\n",
    "        b = int(raw_input(\"Player 2: in which y coordinate would you like to play your piece? \"))\n",
    "        if game[a][b]==0:\n",
    "            game[a][b]=2\n",
    "        else:\n",
    "            k = True\n",
    "            while k:\n",
    "                a = int(raw_input(\"Player 2: Piece already here, enter new x coordinate: \"))\n",
    "                b = int(raw_input(\"Player 2: Enter new y coordinate: \"))\n",
    "                if game[a][b]==0:\n",
    "                    game[a][b]=2\n",
    "                    k = False\n",
    "        draw_board(game)\n",
    "        if ttt(game) != 0:\n",
    "            break\n",
    "    if ttt(game) == 1:\n",
    "        print \"Congratulations, Player\",1,\"wins!\"\n",
    "    elif ttt(game) == 2:\n",
    "        print \"Congratulations, Player\",2,\"wins!\"\n",
    "    else:\n",
    "        print\"Game is a tie! Better luck next time!\""
   ]
  },
  {
   "cell_type": "code",
<<<<<<< HEAD
   "execution_count": 29,
   "metadata": {},
   "outputs": [
    {
     "name": "stdout",
     "output_type": "stream",
     "text": [
      "Welcome to TIC TAC TOE\n",
      "Player1 represented by X, Player w represented by O.\n",
      "Player 1: in which x coordinate would you like to play your piece? 0\n",
      "Player 1: in which y coordinate would you like to play your piece? 0\n",
      " --- --- ---\n",
      "| X |   |   |\n",
      " --- --- ---\n",
      "|   |   |   |\n",
      " --- --- ---\n",
      "|   |   |   |\n",
      " --- --- ---\n",
      "Player 2: in which x coordinate would you like to play your piece? 1\n",
      "Player 2: in which y coordinate would you like to play your piece? 1\n",
      " --- --- ---\n",
      "| X |   |   |\n",
      " --- --- ---\n",
      "|   | O |   |\n",
      " --- --- ---\n",
      "|   |   |   |\n",
      " --- --- ---\n",
      "Player 1: in which x coordinate would you like to play your piece? 2\n",
      "Player 1: in which y coordinate would you like to play your piece? 0\n",
      " --- --- ---\n",
      "| X |   |   |\n",
      " --- --- ---\n",
      "|   | O |   |\n",
      " --- --- ---\n",
      "| X |   |   |\n",
      " --- --- ---\n",
      "Player 2: in which x coordinate would you like to play your piece? 2\n",
      "Player 2: in which y coordinate would you like to play your piece? 0\n",
      "Player 2: Piece already here, enter new x coordinate: 1\n",
      "Player 2: Enter new y coordinate: 0\n",
      " --- --- ---\n",
      "| X |   |   |\n",
      " --- --- ---\n",
      "| O | O |   |\n",
      " --- --- ---\n",
      "| X |   |   |\n",
      " --- --- ---\n",
      "Player 1: in which x coordinate would you like to play your piece? 0\n",
      "Player 1: in which y coordinate would you like to play your piece? 2\n",
      " --- --- ---\n",
      "| X |   | X |\n",
      " --- --- ---\n",
      "| O | O |   |\n",
      " --- --- ---\n",
      "| X |   |   |\n",
      " --- --- ---\n",
      "Player 2: in which x coordinate would you like to play your piece? 1\n",
      "Player 2: in which y coordinate would you like to play your piece? 2\n",
      " --- --- ---\n",
      "| X |   | X |\n",
      " --- --- ---\n",
      "| O | O | O |\n",
      " --- --- ---\n",
      "| X |   |   |\n",
      " --- --- ---\n",
      "Congratulations, Player 2 wins!\n"
     ]
    }
   ],
=======
   "execution_count": null,
   "metadata": {
    "collapsed": true
   },
   "outputs": [],
>>>>>>> cf411cccd7d497c9ffc01354fae695dc28a67b80
   "source": [
    "tictactoe()"
   ]
  },
  {
   "cell_type": "code",
   "execution_count": null,
   "metadata": {
    "collapsed": true
   },
   "outputs": [],
   "source": []
  }
 ],
 "metadata": {
  "kernelspec": {
   "display_name": "Python 2",
   "language": "python",
   "name": "python2"
  },
  "language_info": {
   "codemirror_mode": {
    "name": "ipython",
    "version": 2
   },
   "file_extension": ".py",
   "mimetype": "text/x-python",
   "name": "python",
   "nbconvert_exporter": "python",
   "pygments_lexer": "ipython2",
   "version": "2.7.13"
  }
 },
 "nbformat": 4,
 "nbformat_minor": 2
}
