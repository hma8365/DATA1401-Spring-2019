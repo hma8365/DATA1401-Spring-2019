{
 "cells": [
  {
   "cell_type": "code",
   "execution_count": 7,
   "metadata": {
    "collapsed": true
   },
   "outputs": [],
   "source": [
    "#2 Matrix Representation\n",
    "#a) Write the function constant(n,m,c) that returns an nxm matrix filled wtih floats of value c.\n",
    "\n",
    "def constant(n,m,c):\n",
    "    mat = list()\n",
    "    a = list()\n",
    "    i = 1\n",
    "    while i == 1:\n",
    "        try:\n",
    "            float(c)\n",
    "            i = 0\n",
    "        except:\n",
    "            c = raw_input(\"Not a number, Enter new NUMERIC constant: \")\n",
    "    i = 1 \n",
    "    while i == 1:\n",
    "        try:\n",
    "            int(n)\n",
    "            i = 0\n",
    "        except:\n",
    "            n = raw_input(\"Not a number, Enter new number of rows: \")\n",
    "    i = 1        \n",
    "    while i == 1:\n",
    "        try:\n",
    "            int(m)\n",
    "            i = 0\n",
    "        except:\n",
    "            m = raw_input(\"Not a number, Enter new number of cols: \")\n",
    "\n",
    "    n = int(n)\n",
    "    m = int(m)\n",
    "    c = float(c)\n",
    "    for i in range(m):\n",
    "        a.append(c)\n",
    "    for i in range(n):\n",
    "        mat.append(a)\n",
    "    return mat"
   ]
  },
  {
   "cell_type": "code",
   "execution_count": 8,
   "metadata": {},
   "outputs": [
    {
     "name": "stdout",
     "output_type": "stream",
     "text": [
      "Not a number, Enter new NUMERIC constant: 4\n",
      "Not a number, Enter new number of rows: 2\n",
      "Not a number, Enter new number of cols: 3\n",
      "[4.0, 4.0, 4.0]\n",
      "[4.0, 4.0, 4.0]\n"
     ]
    }
   ],
   "source": [
    "#Testing my function:\n",
    "testmat = constant('c','g','f')\n",
    "for i in range(len(testmat)):\n",
    "    print testmat[i]"
   ]
  },
  {
   "cell_type": "code",
   "execution_count": 9,
   "metadata": {
    "collapsed": true
   },
   "outputs": [],
   "source": [
    "#b) Using 2a write the functions zeros(n,m) and ones(n,m) that returns nxm matrices filled with floats of value 0 and 1, respectively.\n",
    "\n",
    "def zeros(n,m):\n",
    "    return constant(n,m,0)\n",
    "def ones(n,m):\n",
    "    return constant(n,m,1)"
   ]
  },
  {
   "cell_type": "code",
   "execution_count": 10,
   "metadata": {},
   "outputs": [
    {
     "name": "stdout",
     "output_type": "stream",
     "text": [
      "Not a number, Enter new number of rows: 3\n",
      "Not a number, Enter new number of cols: 4\n",
      "\n",
      "[0.0, 0.0, 0.0, 0.0]\n",
      "[0.0, 0.0, 0.0, 0.0]\n",
      "[0.0, 0.0, 0.0, 0.0]\n",
      "**************************\n",
      "\n",
      "[1.0, 1.0]\n",
      "[1.0, 1.0]\n",
      "[1.0, 1.0]\n"
     ]
    }
   ],
   "source": [
    "#Testing function:\n",
    "zer = zeros('f','t')\n",
    "on = ones(3,2)\n",
    "\n",
    "print \n",
    "for i in range(len(zer)):\n",
    "    print zer[i]\n",
    "print '**************************'\n",
    "print\n",
    "for i in range(len(on)):\n",
    "    print on[i]"
   ]
  },
  {
   "cell_type": "code",
   "execution_count": 11,
   "metadata": {
    "collapsed": true
   },
   "outputs": [],
   "source": [
    "#c) Write the function eye(n) that returns the nxn identity matrix.\n",
    "\n",
    "def eye(n):\n",
    "    mat = list()\n",
    "    a = list()\n",
    "    finmat = list()\n",
    "    i = 1\n",
    "    while i == 1:\n",
    "        try:\n",
    "            int(n)\n",
    "            i = 0\n",
    "        except:\n",
    "            n = raw_input(\"Not numeric argument, enter again: \")\n",
    "    n = int(n)\n",
    "    for i in range(n):\n",
    "        a.append(0)\n",
    "    a[0] = 1\n",
    "    for i in range(n-1):\n",
    "        mat.extend(a)\n",
    "        a[i] = 0\n",
    "        a[i+1] = 1\n",
    "    mat.extend(a)\n",
    "    for i in range(n):\n",
    "        finmat.append(mat[(i*n):((i+1)*n)])\n",
    "    return finmat"
   ]
  },
  {
   "cell_type": "code",
   "execution_count": 12,
   "metadata": {},
   "outputs": [
    {
     "name": "stdout",
     "output_type": "stream",
     "text": [
      "[1, 0, 0]\n",
      "[0, 1, 0]\n",
      "[0, 0, 1]\n",
      "\n",
      "[1, 0, 0, 0]\n",
      "[0, 1, 0, 0]\n",
      "[0, 0, 1, 0]\n",
      "[0, 0, 0, 1]\n",
      "\n",
      "[1, 0, 0, 0, 0]\n",
      "[0, 1, 0, 0, 0]\n",
      "[0, 0, 1, 0, 0]\n",
      "[0, 0, 0, 1, 0]\n",
      "[0, 0, 0, 0, 1]\n"
     ]
    }
   ],
   "source": [
    "# Testing solution:\n",
    "I3 = eye(3)\n",
    "for i in range(len(I3)):\n",
    "    print I3[i]\n",
    "print\n",
    "I4 = eye(4)\n",
    "for i in range(len(I4)):\n",
    "    print I4[i]\n",
    "print\n",
    "I5 = eye(5)\n",
    "for i in range(len(I5)):\n",
    "    print I5[i]"
   ]
  },
  {
   "cell_type": "code",
   "execution_count": 13,
   "metadata": {
    "collapsed": true
   },
   "outputs": [],
   "source": [
    "#3 Slicing\n",
    "#a) Write a function shape(M) that returns a tuple containing the size(number of columns and rows) of the matrix M. Note that\n",
    "#since we are using lists of lists to implement matrices, it is possible that not all rows have the same number of columns.\n",
    "#Test explicitly that the matrix is properly formed and return False if it is not.\n",
    "\n",
    "def shape(M):\n",
    "    for i in range(len(M)-1):\n",
    "        if len(M[i]) != len(M[i+1]):\n",
    "            return False\n",
    "    return ('rows',len(M),'cols',len(M[0]))"
   ]
  },
  {
   "cell_type": "code",
   "execution_count": 14,
   "metadata": {},
   "outputs": [
    {
     "name": "stdout",
     "output_type": "stream",
     "text": [
      "('rows', 4, 'cols', 4)\n",
      "('rows', 7, 'cols', 5)\n",
      "False\n"
     ]
    }
   ],
   "source": [
    "#Testing functions:\n",
    "print shape(I4)\n",
    "a = constant(7,5,6)\n",
    "print shape(a)\n",
    "l = [[2,3],[3,4],[5,6,7]]\n",
    "print shape(l)"
   ]
  },
  {
   "cell_type": "code",
   "execution_count": 15,
   "metadata": {
    "collapsed": true
   },
   "outputs": [],
   "source": [
    "#b) Write functions row(M,n) and column(M,n) that returns the nth row or column of the matrix M\n",
    "\n",
    "def row(M,n):\n",
    "    return M[n]\n",
    "def column(M,n):\n",
    "    mat = list()\n",
    "    for i in range(len(M)):\n",
    "        mat.append(M[i][n])\n",
    "    return mat"
   ]
  },
  {
   "cell_type": "code",
   "execution_count": 16,
   "metadata": {},
   "outputs": [
    {
     "name": "stdout",
     "output_type": "stream",
     "text": [
      "[0, 0, 1, 0]\n",
      "\n",
      "[4, 5, 6, 7, 8, 9, 0]\n"
     ]
    }
   ],
   "source": [
    "#Testing functions:\n",
    "print row(I4,2)\n",
    "print\n",
    "p = [[1,2,3,4],[2,3,4,5],[3,4,5,6],[4,5,6,7],[5,6,7,8],[6,7,8,9],[7,8,9,0]]\n",
    "print column(p,3)"
   ]
  },
  {
   "cell_type": "code",
   "execution_count": 17,
   "metadata": {
    "collapsed": true
   },
   "outputs": [],
   "source": [
    "#c)Write function block(M,n_0,n_1,m_0,m_1) that returns a smaller matrix located at the n_0 to n_1 columns and m_0 to m_1 rows.\n",
    "\n",
    "def block(M,n_0,n_1,m_0,m_1):\n",
    "    rowmat = list()\n",
    "    mat = list()\n",
    "    for i in range(n_1-n_0+1): #I'm assuming you want us to include the whole range, including last row\n",
    "        rowmat.append(row(M,(n_0+i)))\n",
    "    for i in range(len(rowmat)):\n",
    "        mat.append(rowmat[i][m_0:m_1+1]) #Assuming you want us to include thw whole range, including last column\n",
    "    return mat"
   ]
  },
  {
   "cell_type": "code",
   "execution_count": 18,
   "metadata": {},
   "outputs": [
    {
     "name": "stdout",
     "output_type": "stream",
     "text": [
      "[3, 4, 5]\n",
      "[4, 5, 6]\n",
      "[5, 6, 7]\n"
     ]
    }
   ],
   "source": [
    "#Testing function:\n",
    "k = block(p,2,4,0,2)\n",
    "for i in range(len(k)):\n",
    "    print k[i]\n",
    "#I print like this because I like the aesthetic more"
   ]
  },
  {
   "cell_type": "code",
   "execution_count": 19,
   "metadata": {
    "collapsed": true
   },
   "outputs": [],
   "source": [
    "#4 Matrix Operations\n",
    "#a) Write a function transpose(M) that returns the transpose of a matrix M.\n",
    "\n",
    "def transpose(M):\n",
    "    "
   ]
  },
  {
   "cell_type": "code",
   "execution_count": 20,
   "metadata": {},
   "outputs": [
    {
     "name": "stdout",
     "output_type": "stream",
     "text": [
      "Original Matrix:\n",
      "[1, 2, 3, 4]\n",
      "[2, 3, 4, 5]\n",
      "[3, 4, 5, 6]\n",
      "[4, 5, 6, 7]\n",
      "[5, 6, 7, 8]\n",
      "[6, 7, 8, 9]\n",
      "[7, 8, 9, 0]\n",
      "\n",
      "Transposed Matrix:\n",
      "[1, 2, 3, 4, 5, 6, 7]\n",
      "[2, 3, 4, 5, 6, 7, 8]\n",
      "[3, 4, 5, 6, 7, 8, 9]\n",
      "[4, 5, 6, 7, 8, 9, 0]\n"
     ]
    }
   ],
   "source": [
    "#Testing functions:\n",
    "t = transpose(p)\n",
    "print \"Original Matrix:\"\n",
    "for i in range(len(p)):\n",
    "    print p[i]\n",
    "print\n",
    "print \"Transposed Matrix:\"\n",
    "for i in range(len(t)):\n",
    "    print t[i]"
   ]
  },
  {
   "cell_type": "code",
   "execution_count": 21,
   "metadata": {
    "collapsed": true
   },
   "outputs": [],
   "source": [
    "#b)Write a function scalarmul(M,c) that returns a matrix that is a scalar product cM, where every element of M is multiplied by c\n",
    "def scalarmul(M,c):\n",
    "    mat = list()\n",
    "    finmat = list()\n",
    "    n = len(M)\n",
    "    for i in range(n):\n",
    "        mat.extend(M[i])\n",
    "    for i in range(n):\n",
    "        finmat.append(mat[(i*n):((i+1)*n)])\n",
    "    for i in range(n):\n",
    "        for j in range(len(M[i])):\n",
    "            finmat[i][j] = float(M[i][j])*float(c)\n",
    "    return finmat"
   ]
  },
  {
   "cell_type": "code",
   "execution_count": 22,
   "metadata": {},
   "outputs": [
    {
     "name": "stdout",
     "output_type": "stream",
     "text": [
      "Original matrix:\n",
      "[1, 0, 0]\n",
      "[0, 1, 0]\n",
      "[0, 0, 1]\n",
      "\n",
      "Scalar Multiple matrix:\n",
      "[4.0, 0.0, 0.0]\n",
      "[0.0, 4.0, 0.0]\n",
      "[0.0, 0.0, 4.0]\n"
     ]
    }
   ],
   "source": [
    "#Testing function:\n",
    "\n",
    "r = scalarmul(I3,4)\n",
    "print \"Original matrix:\"\n",
    "for i in range(len(I3)):\n",
    "    print I3[i]\n",
    "print\n",
    "print \"Scalar Multiple matrix:\"\n",
    "for i in range(len(r)):\n",
    "    print r[i]"
   ]
  },
  {
   "cell_type": "code",
   "execution_count": 23,
   "metadata": {
    "collapsed": true
   },
   "outputs": [],
   "source": [
    "#c) Write a function add(M,N) that adds two matrices M and N. Check compatibility.\n",
    "\n",
    "def add(M,N):\n",
    "    mat = list()\n",
    "    finmat = list()\n",
    "    if shape(M)[3] != shape(N)[3] or shape(M)[1] != shape(N)[1]:\n",
    "        print \"Not compatible.\"\n",
    "        return False\n",
    "    else:\n",
    "        n = len(M)\n",
    "        for i in range(n):\n",
    "            mat.extend(M[i]) #This is to create a new matrix without changing the old ones becuase append function works funky.\n",
    "        for i in range(n):\n",
    "            finmat.append(mat[(i*n):((i+1)*n)])\n",
    "        for i in range(len(finmat)):\n",
    "            for j in range(len(finmat[0])):\n",
    "                finmat[i][j] = M[i][j] + N[i][j]\n",
    "        return finmat\n",
    "    "
   ]
  },
  {
   "cell_type": "code",
   "execution_count": 24,
   "metadata": {},
   "outputs": [
    {
     "name": "stdout",
     "output_type": "stream",
     "text": [
      "[2, 0, 0, 0]\n",
      "[0, 2, 0, 0]\n",
      "[0, 0, 2, 0]\n",
      "[0, 0, 0, 2]\n",
      "Not compatible.\n",
      "False\n"
     ]
    }
   ],
   "source": [
    "#Testing Function:\n",
    "added = add(I4,I4)\n",
    "for i in range(len(added)):\n",
    "    print added[i]\n",
    "added2 = add(I3,I4)\n",
    "print added2"
   ]
  },
  {
   "cell_type": "code",
   "execution_count": 25,
   "metadata": {
    "collapsed": true
   },
   "outputs": [],
   "source": [
    "#d) Write a function sub(M,N) that uses 4b and 4c to return M-N.\n",
    "\n",
    "def sub(M,N):\n",
    "    A = scalarmul(N,-1)\n",
    "    return add(M,A)"
   ]
  },
  {
   "cell_type": "code",
   "execution_count": 26,
   "metadata": {},
   "outputs": [
    {
     "name": "stdout",
     "output_type": "stream",
     "text": [
      "[5.0, 0.0, 0.0, 0.0]\n",
      "[0.0, 5.0, 0.0, 0.0]\n",
      "[0.0, 0.0, 5.0, 0.0]\n",
      "[0.0, 0.0, 0.0, 5.0]\n",
      "Not compatible.\n",
      "False\n"
     ]
    }
   ],
   "source": [
    "#Testing Solutions:\n",
    "subbed = sub(scalarmul(I4,6),I4)\n",
    "for i in range(len(subbed)):\n",
    "    print subbed[i]\n",
    "\n",
    "print sub(I4,I5)"
   ]
  },
  {
   "cell_type": "code",
   "execution_count": 27,
   "metadata": {
    "collapsed": true
   },
   "outputs": [],
   "source": [
    "#e) Write a function elementmult(M,N) that returns a matrix that is the element-wise product of two matrices M and N.\n",
    "def elementmult(M,N):\n",
    "    mat = list()\n",
    "    finmat = list()\n",
    "    if shape(M)[3] != shape(N)[3] or shape(M)[1] != shape(N)[1]:\n",
    "        print \"Not compatible.\"\n",
    "        return False\n",
    "    else:\n",
    "        n = len(M)\n",
    "        for i in range(n):\n",
    "            mat.extend(M[i]) #This is to create a new matrix without changing the old ones becuase append function works funky.\n",
    "        for i in range(n):\n",
    "            finmat.append(mat[(i*n):((i+1)*n)])\n",
    "        for i in range(len(finmat)):\n",
    "            for j in range(len(finmat[0])):\n",
    "                finmat[i][j] = M[i][j]*N[i][j]\n",
    "        return finmat"
   ]
  },
  {
   "cell_type": "code",
   "execution_count": 28,
   "metadata": {},
   "outputs": [
    {
     "name": "stdout",
     "output_type": "stream",
     "text": [
      "[35.0, 0.0, 0.0, 0.0]\n",
      "[0.0, 35.0, 0.0, 0.0]\n",
      "[0.0, 0.0, 35.0, 0.0]\n",
      "[0.0, 0.0, 0.0, 35.0]\n",
      "\n",
      "Not compatible.\n",
      "False\n"
     ]
    }
   ],
   "source": [
    "#Testing Solutions:\n",
    "elems = elementmult(subbed,scalarmul(I4,7))\n",
    "for i in range(len(elems)):\n",
    "    print elems[i]    \n",
    "print\n",
    "print elementmult(I4,I5)"
   ]
  },
  {
   "cell_type": "code",
   "execution_count": 49,
   "metadata": {},
   "outputs": [],
   "source": [
    "#f) Write a function matmult(M,N) that returns a matrix that is the matrix product of two matrices M and N.\n",
    "\n",
    "def matmult(M,N):\n",
    "    if shape(M)[3] != shape(N)[1]:\n",
    "        print \"Not compatible.\"\n",
    "        return False\n",
    "    else:\n",
    "        finmat = [[sum(m * n for m, n in zip(M_row, N_col))  \n",
    "                            for N_col in zip(*N)] \n",
    "                                    for M_row in M]\n",
    "    return finmat                "
   ]
  },
  {
   "cell_type": "code",
   "execution_count": 50,
   "metadata": {},
   "outputs": [
    {
     "name": "stdout",
     "output_type": "stream",
     "text": [
      "[175.0, 0.0, 0.0, 0.0]\n",
      "[0.0, 175.0, 0.0, 0.0]\n",
      "[0.0, 0.0, 175.0, 0.0]\n",
      "[0.0, 0.0, 0.0, 175.0]\n",
      "\n",
      "\n",
      "[32, 38, 41]\n",
      "[47, 56, 60]\n"
     ]
    }
   ],
   "source": [
    "for i in range(len(matmult(subbed, elems))):\n",
    "    print matmult(subbed, elems)[i]\n",
    "    \n",
    "print\n",
    "print\n",
    "\n",
    "m = [[1,2,3],[2,3,4]]\n",
    "n = [[4,5,5],[5,6,6],[6,7,8]]\n",
    "\n",
    "for i in range(len(matmult(m,n))):\n",
    "               print matmult(m,n)[i]"
   ]
  },
  {
   "cell_type": "code",
   "execution_count": 86,
   "metadata": {
    "collapsed": true
   },
   "outputs": [],
   "source": [
    "#g) Representing a vector as a 1-D list, write two functions dot(A,B) and outer(A,B) that compute the dot and outer products of two\n",
    "#vectors A and B\n",
    "\n",
    "def dot(A,B):\n",
    "    if len(A) != len(B):\n",
    "        print \"Not compatible\"\n",
    "        return False\n",
    "    else:\n",
    "        dp = 0\n",
    "        for i in range(len(A)):\n",
    "            dp = dp + A[i]*B[i]\n",
    "    return dp\n",
    "\n",
    "def outer(A,B):\n",
    "    if len(A) != len(B):\n",
    "        print \"Not compatible\"\n",
    "        return False\n",
    "    else:\n",
    "        At = list()\n",
    "        for i in range(len(A)):\n",
    "            At.append([A[i]])\n",
    "            finmat = [[sum(a * b for a, b in zip(A_row, B_col))  \n",
    "                            for B_col in zip(*B)] \n",
    "                                    for A_row in A]\n",
    "    return finmat"
   ]
  },
  {
   "cell_type": "code",
   "execution_count": 87,
   "metadata": {},
   "outputs": [
    {
     "name": "stdout",
     "output_type": "stream",
     "text": [
      "70\n"
     ]
    },
    {
     "ename": "TypeError",
     "evalue": "zip argument #1 must support iteration",
     "output_type": "error",
     "traceback": [
      "\u001b[0;31m\u001b[0m",
      "\u001b[0;31mTypeError\u001b[0mTraceback (most recent call last)",
      "\u001b[0;32m<ipython-input-87-5d4f254c568a>\u001b[0m in \u001b[0;36m<module>\u001b[0;34m()\u001b[0m\n\u001b[1;32m      7\u001b[0m \u001b[0;32mprint\u001b[0m \u001b[0mab\u001b[0m\u001b[0;34m\u001b[0m\u001b[0m\n\u001b[1;32m      8\u001b[0m \u001b[0;34m\u001b[0m\u001b[0m\n\u001b[0;32m----> 9\u001b[0;31m \u001b[0maoutb\u001b[0m \u001b[0;34m=\u001b[0m \u001b[0mouter\u001b[0m\u001b[0;34m(\u001b[0m\u001b[0ma\u001b[0m\u001b[0;34m,\u001b[0m\u001b[0mb\u001b[0m\u001b[0;34m)\u001b[0m\u001b[0;34m\u001b[0m\u001b[0m\n\u001b[0m\u001b[1;32m     10\u001b[0m \u001b[0;34m\u001b[0m\u001b[0m\n\u001b[1;32m     11\u001b[0m \u001b[0;32mfor\u001b[0m \u001b[0mi\u001b[0m \u001b[0;32min\u001b[0m \u001b[0mrange\u001b[0m\u001b[0;34m(\u001b[0m\u001b[0mlen\u001b[0m\u001b[0;34m(\u001b[0m\u001b[0maoutb\u001b[0m\u001b[0;34m)\u001b[0m\u001b[0;34m)\u001b[0m\u001b[0;34m:\u001b[0m\u001b[0;34m\u001b[0m\u001b[0m\n",
      "\u001b[0;32m<ipython-input-86-0b2a95130a00>\u001b[0m in \u001b[0;36mouter\u001b[0;34m(A, B)\u001b[0m\n\u001b[1;32m     22\u001b[0m             finmat = [[sum(a * b for a, b in zip(A_row, B_col))  \n\u001b[1;32m     23\u001b[0m                             for B_col in zip(*B)] \n\u001b[0;32m---> 24\u001b[0;31m                                     for A_col in A]\n\u001b[0m\u001b[1;32m     25\u001b[0m     \u001b[0;32mreturn\u001b[0m \u001b[0mfinmat\u001b[0m\u001b[0;34m\u001b[0m\u001b[0m\n",
      "\u001b[0;31mTypeError\u001b[0m: zip argument #1 must support iteration"
     ]
    }
   ],
   "source": [
    "#Testing functions:\n",
    "a = [1,2,3,4]\n",
    "b = [0,9,8,7]\n",
    "\n",
    "ab = dot(a,b)\n",
    "\n",
    "print ab\n",
    "\n",
    "aoutb = outer(a,b)\n",
    "\n",
    "for i in range(len(aoutb)):\n",
    "    print aoutb[i]"
   ]
  },
  {
   "cell_type": "code",
   "execution_count": 95,
   "metadata": {},
   "outputs": [],
   "source": [
    "#5 Norms\n",
    "#a) Write a function norm(M,i) that computes the ith norm of matrix M.\n",
    "\n",
    "def norm(M,i):\n",
    "    if(i == 1):\n",
    "        s = 0\n",
    "        for i in range(len(M)):\n",
    "            s = s + abs(M[i])\n",
    "    elif(i == 2):\n",
    "        s = 0\n",
    "        for k in range(len(M)):\n",
    "            s = s + (M[k]**2)\n",
    "        s = s**(1/2)\n",
    "    elif(i == 'inf'):\n",
    "        l = list()\n",
    "        for i in range(len(M)):\n",
    "            l.append(abs(M[i]))\n",
    "        l.sort()\n",
    "        s = l[-1]\n",
    "    else:\n",
    "        s = 0\n",
    "        for k in range(len(M)):\n",
    "            s = s + (M[k]**i)\n",
    "            s = s**(1/i)\n",
    "    return s"
   ]
  },
  {
   "cell_type": "code",
   "execution_count": 96,
   "metadata": {},
   "outputs": [
    {
     "name": "stdout",
     "output_type": "stream",
     "text": [
      "10\n",
      "1\n",
      "1\n",
      "4\n"
     ]
    }
   ],
   "source": [
    "#Testing:\n",
    "print norm(a,1)\n",
    "print norm(a,2)\n",
    "print norm(a,3)\n",
    "print norm(a,'inf')"
   ]
  },
  {
   "cell_type": "code",
   "execution_count": null,
   "metadata": {
    "collapsed": true
   },
   "outputs": [],
   "source": []
  }
 ],
 "metadata": {
  "kernelspec": {
   "display_name": "Python 2",
   "language": "python",
   "name": "python2"
  },
  "language_info": {
   "codemirror_mode": {
    "name": "ipython",
    "version": 2
   },
   "file_extension": ".py",
   "mimetype": "text/x-python",
   "name": "python",
   "nbconvert_exporter": "python",
   "pygments_lexer": "ipython2",
   "version": "2.7.13"
  }
 },
 "nbformat": 4,
 "nbformat_minor": 2
}
