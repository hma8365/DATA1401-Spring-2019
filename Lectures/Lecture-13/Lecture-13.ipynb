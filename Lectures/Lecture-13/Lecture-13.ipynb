{
 "cells": [
  {
   "cell_type": "markdown",
   "metadata": {
    "deletable": true,
    "editable": true
   },
   "source": [
    "# Lecture 13\n",
    "\n"
   ]
  },
  {
   "cell_type": "code",
   "execution_count": 1,
   "metadata": {
    "collapsed": true,
    "deletable": true,
    "editable": true
   },
   "outputs": [],
   "source": [
    "# Create some virtual classes\n",
    "\n",
    "class base:\n",
    "    __name=\"\"\n",
    "    \n",
    "    def __init__(self,name):\n",
    "        self.__name=name\n",
    "\n",
    "    def name(self):\n",
    "        return self.__name\n",
    "    \n",
    "\n",
    "class data(base):\n",
    "    def __init__(self,name):\n",
    "        base.__init__(self,name)\n",
    "        \n",
    "class alg(base):\n",
    "    def __init__(self,name):\n",
    "        base.__init__(self,name)\n",
    "\n",
    "    \n",
    "    \n",
    "    "
   ]
  },
  {
   "cell_type": "code",
   "execution_count": 2,
   "metadata": {
    "collapsed": false,
    "deletable": true,
    "editable": true
   },
   "outputs": [
    {
     "data": {
      "text/plain": [
       "'Hello'"
      ]
     },
     "execution_count": 2,
     "metadata": {},
     "output_type": "execute_result"
    }
   ],
   "source": [
    "a=alg(\"Hello\")\n",
    "a.name()"
   ]
  },
  {
   "cell_type": "code",
   "execution_count": 3,
   "metadata": {
    "collapsed": false,
    "deletable": true,
    "editable": true
   },
   "outputs": [
    {
     "data": {
      "text/plain": [
       "['__doc__', '__init__', '__module__', '_base__name', 'name']"
      ]
     },
     "execution_count": 3,
     "metadata": {},
     "output_type": "execute_result"
    }
   ],
   "source": [
    "dir(a)"
   ]
  },
  {
   "cell_type": "code",
   "execution_count": 4,
   "metadata": {
    "collapsed": true,
    "deletable": true,
    "editable": true
   },
   "outputs": [],
   "source": [
    "class grade(data):\n",
    "    __value=0\n",
    "    __numerical=True\n",
    "    __gradebook_name=str()\n",
    "    __letter_grades=[\"F-\",\"F\",\"F+\",\"D-\",\"D\",\"D+\",\"C-\",\"C\",\"C+\",\"B-\",\"B\",\"B+\",\"A-\",\"A\",\"A+\"]\n",
    "    \n",
    "    def __init__(self,name,numerical=True,value=None):\n",
    "        if value:\n",
    "            if isinstance(value,(int,float)):\n",
    "                self.__numerical=True\n",
    "            elif isinstance(value,str):\n",
    "                self.__numerical=False\n",
    "            self.set(value)\n",
    "        else:            \n",
    "            self.__numerical=numerical\n",
    "        self.__gradebook_name=name\n",
    "        data.__init__(self,name+\" Grade Algorithm\")        \n",
    "\n",
    "    def set(self,value):\n",
    "        if isinstance(value,(int,float)) and self.__numerical:\n",
    "            self.__value=value\n",
    "        elif isinstance(value,str) and not self.__numerical:\n",
    "            if value in self.__letter_grades:\n",
    "                self.__value=value\n",
    "        else:\n",
    "            print self.name()+\" Error: Bad Grade.\"\n",
    "            raise Exception\n",
    "    \n",
    "    def value(self):\n",
    "        return self.__value\n",
    "    \n",
    "    def numerical(self):\n",
    "        return self.__numerical\n",
    "    \n",
    "    def gradebook_name(self):\n",
    "        return self.__gradebook_name\n",
    "    \n",
    "    def __str__(self):\n",
    "        return self.__gradebook_name+\": \"+str(self.__value)\n",
    "\n",
    "class student(data):\n",
    "    __id_number=0\n",
    "    __grades=dict()\n",
    "    \n",
    "    def __init__(self,first_name, last_name,id_number):\n",
    "        self.__id_number=id_number\n",
    "        data.__init__(self,first_name+\" \"+last_name+\" Student Data\")\n",
    "\n",
    "    def add_grade(self,a_grade,overwrite=False):\n",
    "        if overwrite or not a_grade.gradebook_name() in self.__grades:\n",
    "            self.__grades[a_grade.gradebook_name()]=a_grade\n",
    "        else:\n",
    "            print self.name()+\" Error Adding Grade \"+a_grade.name()+\". Grade already exists.\"\n",
    "            raise Exception\n",
    "\n",
    "    def id_number(self):\n",
    "        return __id_number\n",
    "    \n",
    "    def __getitem__(self,key):\n",
    "        return self.__grades[key]\n",
    "    \n",
    "    def print_grades(self):\n",
    "        for grade in self.__grades:\n",
    "            print self.__grades[grade]\n",
    "    \n"
   ]
  },
  {
   "cell_type": "code",
   "execution_count": 5,
   "metadata": {
    "collapsed": false,
    "deletable": true,
    "editable": true
   },
   "outputs": [
    {
     "name": "stdout",
     "output_type": "stream",
     "text": [
      "Exam 1 Letter: A\n",
      "Exam 1: 95\n"
     ]
    }
   ],
   "source": [
    "a_student=student(\"John\",\"Doe\",111)\n",
    "\n",
    "a_student.add_grade(grade(\"Exam 1\",value=95))\n",
    "a_student.add_grade(grade(\"Exam 1 Letter\",value=\"A\"))\n",
    "\n",
    "a_student.print_grades()"
   ]
  },
  {
   "cell_type": "code",
   "execution_count": 6,
   "metadata": {
    "collapsed": true,
    "deletable": true,
    "editable": true
   },
   "outputs": [],
   "source": [
    "class grade_calculator(alg):\n",
    "    __stats=False\n",
    "    \n",
    "    def __init__(self,name,stats):\n",
    "        self.__stats=stats\n",
    "        alg.__init__(self,name)\n",
    "\n",
    "    def apply(self,a_grade):\n",
    "        raise NotImplementedError\n",
    "        \n",
    "\n",
    "class uncurved_letter_grade_percent(grade_calculator):\n",
    "    __grades_definition=[ (.97,\"A+\"),\n",
    "                          (.93,\"A\"),\n",
    "                          (.9,\"A-\"),\n",
    "                          (.87,\"B+\"),\n",
    "                          (.83,\"B\"),\n",
    "                          (.8,\"B-\"),\n",
    "                          (.77,\"C+\"),\n",
    "                          (.73,\"C\"),\n",
    "                          (.7,\"C-\"),\n",
    "                          (.67,\"C+\"),\n",
    "                          (.63,\"C\"),\n",
    "                          (.6,\"C-\"),\n",
    "                          (.57,\"F+\"),\n",
    "                          (.53,\"F\"),\n",
    "                          (0.,\"F-\")]\n",
    "    __max_grade=100.\n",
    "    __grade_name=str()\n",
    "    \n",
    "    def __init__(self,grade_name,max_grade=100.):\n",
    "        self.__max_grade=max_grade\n",
    "        self.__grade_name=grade_name\n",
    "        grade_calculator.__init__(self,\n",
    "                                  \"Uncurved Percent Based Grade Calculator \"+self.__grade_name+\" Max=\"+str(self.__max_grade),\n",
    "                                 False)\n",
    "        \n",
    "\n",
    "    def apply(self,a_grade):\n",
    "        if not isinstance(a_grade,grade):\n",
    "            print isinstance(a_grade,grade)\n",
    "            print self.name()+ \" Error: Did not get an proper grade as input.\"\n",
    "            raise Exception\n",
    "        if not a_grade.numerical():\n",
    "            print self.name()+ \" Error: Did not get a numerical grade as input.\"\n",
    "            raise Exception\n",
    "\n",
    "        percent=a_grade.value()/self.__max_grade\n",
    "        \n",
    "        for i,v in enumerate(self.__grades_definition):\n",
    "            #print percent, i, v\n",
    "            if percent>=v[0]:\n",
    "                break\n",
    "                            \n",
    "        return grade(self.__grade_name,value=self.__grades_definition[i][1])\n",
    "            "
   ]
  },
  {
   "cell_type": "code",
   "execution_count": 7,
   "metadata": {
    "collapsed": false,
    "deletable": true,
    "editable": true
   },
   "outputs": [
    {
     "name": "stdout",
     "output_type": "stream",
     "text": [
      "Exam 1 Test Grade: A\n"
     ]
    }
   ],
   "source": [
    "a_grader=uncurved_letter_grade_percent(grade_name=\"Exam 1 Test Grade\")\n",
    "print a_grader.apply(a_student[\"Exam 1\"])"
   ]
  },
  {
   "cell_type": "code",
   "execution_count": 8,
   "metadata": {
    "collapsed": false,
    "deletable": true,
    "editable": true
   },
   "outputs": [
    {
     "name": "stdout",
     "output_type": "stream",
     "text": [
      "Exam 1 Test Grade: C\n"
     ]
    }
   ],
   "source": [
    "print a_grader.apply(grade(\"Test Grade\",value=75.))"
   ]
  },
  {
   "cell_type": "code",
   "execution_count": 9,
   "metadata": {
    "collapsed": false,
    "deletable": true,
    "editable": true
   },
   "outputs": [
    {
     "name": "stdout",
     "output_type": "stream",
     "text": [
      "(0, 'A')\n",
      "(1, 'B')\n",
      "(2, 'C')\n"
     ]
    }
   ],
   "source": [
    "for x in enumerate([\"A\",\"B\",\"C\"]):\n",
    "    print x"
   ]
  },
  {
   "cell_type": "code",
   "execution_count": 10,
   "metadata": {
    "collapsed": true,
    "deletable": true,
    "editable": true
   },
   "outputs": [],
   "source": [
    "class grade_book(data):\n",
    "    __students=dict()\n",
    "    \n",
    "    def __init__(self,name):\n",
    "        data.__init__(self,name+\" Course Grade Book\")\n",
    "        \n",
    "    def add_student(self,a_student):\n",
    "        self.__students[a_student.id_number]=a_student\n",
    "        \n",
    "    def assign_grade(self,key,a_grade):\n",
    "        the_student=None\n",
    "        try:\n",
    "            the_student=self.__students[key]\n",
    "        except:\n",
    "            for id in self.__students:\n",
    "                if key == self.__students[id].name():\n",
    "                    the_student=self.__students[id]\n",
    "                    break\n",
    "        if the_student:\n",
    "            the_student.add_grade(a_grade)\n",
    "        else:\n",
    "            print self.name()+\" Error: Did not find student.\"\n",
    "            \n",
    "    \n",
    "            \n",
    "        \n",
    "    "
   ]
  }
 ],
 "metadata": {
  "kernelspec": {
   "display_name": "Python 2",
   "language": "python",
   "name": "python2"
  },
  "language_info": {
   "codemirror_mode": {
    "name": "ipython",
    "version": 2
   },
   "file_extension": ".py",
   "mimetype": "text/x-python",
   "name": "python",
   "nbconvert_exporter": "python",
   "pygments_lexer": "ipython2",
   "version": "2.7.10"
  }
 },
 "nbformat": 4,
 "nbformat_minor": 2
}
