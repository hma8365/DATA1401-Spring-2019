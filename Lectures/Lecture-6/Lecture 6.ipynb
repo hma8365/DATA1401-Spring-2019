{
 "cells": [
  {
   "cell_type": "markdown",
   "metadata": {},
   "source": [
    "# Lecture 6"
   ]
  },
  {
   "cell_type": "code",
   "execution_count": 1,
   "metadata": {
    "collapsed": true
   },
   "outputs": [],
   "source": [
    "player_1 = 1\n",
    "player_2 = 2\n",
    "empty = 0"
   ]
  },
  {
   "cell_type": "code",
   "execution_count": 6,
   "metadata": {
    "collapsed": true
   },
   "outputs": [],
   "source": [
    "def make_game_board(size):\n",
    "    # Make a 8 by 8 matrix\n",
    "    board=list()\n",
    "    for i in range(size):\n",
    "        board.append([empty]*size)\n",
    "    \n",
    "    # Even Columns\n",
    "    for i in range(0,size,2):\n",
    "        board[1][i]=player_1\n",
    "        board[-1][i]=player_2\n",
    "        board[-3][i]=player_2\n",
    "\n",
    "    # Odd Rows\n",
    "    for i in range(1,size,2):\n",
    "        board[0][i]=player_1\n",
    "        board[2][i]=player_1\n",
    "        board[-2][i]=player_2\n",
    "    \n",
    "    return board"
   ]
  },
  {
   "cell_type": "code",
   "execution_count": 7,
   "metadata": {},
   "outputs": [
    {
     "data": {
      "text/plain": [
       "[[0, 1, 0, 1, 0, 1, 0, 1],\n",
       " [1, 0, 1, 0, 1, 0, 1, 0],\n",
       " [0, 1, 0, 1, 0, 1, 0, 1],\n",
       " [0, 0, 0, 0, 0, 0, 0, 0],\n",
       " [0, 0, 0, 0, 0, 0, 0, 0],\n",
       " [2, 0, 2, 0, 2, 0, 2, 0],\n",
       " [0, 2, 0, 2, 0, 2, 0, 2],\n",
       " [2, 0, 2, 0, 2, 0, 2, 0]]"
      ]
     },
     "execution_count": 7,
     "metadata": {},
     "output_type": "execute_result"
    }
   ],
   "source": [
    "board_0=make_game_board(8)\n",
    "board_0"
   ]
  },
  {
   "cell_type": "code",
   "execution_count": 5,
   "metadata": {
    "collapsed": true
   },
   "outputs": [],
   "source": [
    "verbose=True\n",
    "\n",
    "def print_message(error):\n",
    "    if verbose:\n",
    "        print error"
   ]
  },
  {
   "cell_type": "code",
   "execution_count": 8,
   "metadata": {},
   "outputs": [
    {
     "name": "stdout",
     "output_type": "stream",
     "text": [
      "{1: [(1, 1), (1, -1)], 2: [(-1, 1), (-1, -1)]}\n"
     ]
    }
   ],
   "source": [
    "player_1_left_move=(1,1)\n",
    "player_1_right_move=(1,-1)\n",
    "\n",
    "player_2_left_move=(-1,1)\n",
    "player_2_right_move=(-1,-1)\n",
    "\n",
    "moves={ player_1: [player_1_left_move, player_1_right_move],\n",
    "        player_2: [player_2_left_move, player_2_right_move]}\n",
    "\n",
    "left_move=0\n",
    "right_move=1\n",
    "\n",
    "print moves"
   ]
  },
  {
   "cell_type": "code",
   "execution_count": 9,
   "metadata": {},
   "outputs": [],
   "source": [
    "  \n",
    "def move_piece(board,player,location,move):\n",
    "    x,y=location\n",
    "    \n",
    "    # Check if player's piece is at location\n",
    "    if not board[x][y] == player:\n",
    "        print_message(\"Player does not have piece at location.\")\n",
    "        return False\n",
    "\n",
    "    # Compute the offset for the move\n",
    "    x_offset,y_offset = moves[player][move]\n",
    "    \n",
    "    # Make sure the move is on the board:\n",
    "    move_possible= x+x_offset < 8 and \\\n",
    "                    x+x_offset >= 0 and \\\n",
    "                    y+y_offset < 8 and \\\n",
    "                    y+y_offset >= 0\n",
    "                \n",
    "                \n",
    "    jump_possible= x+2*x_offset < 8 and \\\n",
    "                    x+2*x_offset >= 0 and \\\n",
    "                    y+2*y_offset < 8 and \\\n",
    "                    y+2*y_offset >= 0\n",
    "    \n",
    "    if not (move_possible or jump_possible):\n",
    "        print_message(\"Move is off of board.\")\n",
    "        return False\n",
    "        \n",
    "    # Try the move\n",
    "    # Is the target space empty\n",
    "    if move_possible and \\\n",
    "        board[x+x_offset][y+y_offset]==empty:\n",
    "    \n",
    "        # Make the move\n",
    "        # Empty the spot\n",
    "        board[x][y]=empty\n",
    "        # Place player in new spot\n",
    "        board[x+x_offset][y+y_offset]=player\n",
    "        print_message(\"Moved.\")            \n",
    "\n",
    "        return board\n",
    "    # Does the target space have an opponent's piece, and the space after empty\n",
    "    elif jump_possible and \\\n",
    "            board[x+x_offset][y+y_offset]!=player and \\\n",
    "            board[x+2*x_offset][y+2*y_offset]==empty:\n",
    "\n",
    "\n",
    "        # Make the move\n",
    "        # Empty the spot\n",
    "        board[x][y]=empty\n",
    "        # Remove the oppoent's piece\n",
    "        board[x+x_offset][y+y_offset]=empty\n",
    "        # Move player to new spot\n",
    "        board[x+2*x_offset][y+2*y_offset]=player\n",
    "        print_message(\"Took opponent's piece.\")\n",
    "        \n",
    "        return board\n",
    "    else:\n",
    "        print_message(\"Move not possible.\")\n",
    "        return False\n"
   ]
  },
  {
   "cell_type": "code",
   "execution_count": 20,
   "metadata": {},
   "outputs": [
    {
     "data": {
      "text/plain": [
       "[[0, 1, 0, 1, 0, 1, 0, 1],\n",
       " [1, 0, 1, 0, 1, 0, 1, 0],\n",
       " [0, 1, 0, 1, 0, 1, 0, 1],\n",
       " [0, 0, 0, 0, 0, 0, 0, 0],\n",
       " [0, 0, 0, 0, 0, 0, 0, 0],\n",
       " [2, 0, 2, 0, 2, 0, 2, 0],\n",
       " [0, 2, 0, 2, 0, 2, 0, 2],\n",
       " [2, 0, 2, 0, 2, 0, 2, 0]]"
      ]
     },
     "execution_count": 20,
     "metadata": {},
     "output_type": "execute_result"
    }
   ],
   "source": [
    "board_0=make_game_board(8)\n",
    "board_0"
   ]
  },
  {
   "cell_type": "code",
   "execution_count": 21,
   "metadata": {},
   "outputs": [
    {
     "name": "stdout",
     "output_type": "stream",
     "text": [
      "Moved.\n"
     ]
    },
    {
     "data": {
      "text/plain": [
       "[[0, 1, 0, 1, 0, 1, 0, 1],\n",
       " [1, 0, 1, 0, 1, 0, 1, 0],\n",
       " [0, 0, 0, 1, 0, 1, 0, 1],\n",
       " [0, 0, 1, 0, 0, 0, 0, 0],\n",
       " [0, 0, 0, 0, 0, 0, 0, 0],\n",
       " [2, 0, 2, 0, 2, 0, 2, 0],\n",
       " [0, 2, 0, 2, 0, 2, 0, 2],\n",
       " [2, 0, 2, 0, 2, 0, 2, 0]]"
      ]
     },
     "execution_count": 21,
     "metadata": {},
     "output_type": "execute_result"
    }
   ],
   "source": [
    "board_0=move_piece(board_0,player_1,(2,1),0)\n",
    "board_0"
   ]
  },
  {
   "cell_type": "code",
   "execution_count": 22,
   "metadata": {},
   "outputs": [
    {
     "name": "stdout",
     "output_type": "stream",
     "text": [
      "Moved.\n"
     ]
    },
    {
     "data": {
      "text/plain": [
       "[[0, 1, 0, 1, 0, 1, 0, 1],\n",
       " [1, 0, 1, 0, 1, 0, 1, 0],\n",
       " [0, 0, 0, 1, 0, 1, 0, 1],\n",
       " [0, 0, 1, 0, 0, 0, 0, 0],\n",
       " [0, 0, 0, 2, 0, 0, 0, 0],\n",
       " [2, 0, 2, 0, 0, 0, 2, 0],\n",
       " [0, 2, 0, 2, 0, 2, 0, 2],\n",
       " [2, 0, 2, 0, 2, 0, 2, 0]]"
      ]
     },
     "execution_count": 22,
     "metadata": {},
     "output_type": "execute_result"
    }
   ],
   "source": [
    "board_0=move_piece(board_0,player_2,(5,4),1)\n",
    "board_0"
   ]
  },
  {
   "cell_type": "code",
   "execution_count": 23,
   "metadata": {},
   "outputs": [
    {
     "name": "stdout",
     "output_type": "stream",
     "text": [
      "Took opponent's piece.\n"
     ]
    },
    {
     "data": {
      "text/plain": [
       "[[0, 1, 0, 1, 0, 1, 0, 1],\n",
       " [1, 0, 1, 0, 1, 0, 1, 0],\n",
       " [0, 0, 0, 1, 0, 1, 0, 1],\n",
       " [0, 0, 0, 0, 0, 0, 0, 0],\n",
       " [0, 0, 0, 0, 0, 0, 0, 0],\n",
       " [2, 0, 2, 0, 1, 0, 2, 0],\n",
       " [0, 2, 0, 2, 0, 2, 0, 2],\n",
       " [2, 0, 2, 0, 2, 0, 2, 0]]"
      ]
     },
     "execution_count": 23,
     "metadata": {},
     "output_type": "execute_result"
    }
   ],
   "source": [
    "board_0=move_piece(board_0,player_1,(3,2),0)\n",
    "board_0"
   ]
  },
  {
   "cell_type": "code",
   "execution_count": 38,
   "metadata": {},
   "outputs": [],
   "source": [
    "player_1_piece=\"X\"\n",
    "player_2_piece=\"O\"\n",
    "empty_space=\" \""
   ]
  },
  {
   "cell_type": "code",
   "execution_count": 25,
   "metadata": {
    "collapsed": true
   },
   "outputs": [],
   "source": [
    "def space_character(player):\n",
    "    if player==player_1:\n",
    "        return player_1_piece\n",
    "    elif player==player_2:\n",
    "        return player_2_piece\n",
    "    else:\n",
    "        return empty_space\n",
    "\n"
   ]
  },
  {
   "cell_type": "code",
   "execution_count": 26,
   "metadata": {
    "collapsed": true
   },
   "outputs": [],
   "source": [
    "def draw_board(board):\n",
    "    for i in range(8):\n",
    "        print\n",
    "        for j in range(8):\n",
    "            print space_character(board[i][j]),"
   ]
  },
  {
   "cell_type": "code",
   "execution_count": 27,
   "metadata": {},
   "outputs": [
    {
     "name": "stdout",
     "output_type": "stream",
     "text": [
      "\n",
      "  X   X   X   X\n",
      "X   X   X   X  \n",
      "      X   X   X\n",
      "               \n",
      "               \n",
      "O   O   X   O  \n",
      "  O   O   O   O\n",
      "O   O   O   O  \n"
     ]
    }
   ],
   "source": [
    "draw_board(board_0)"
   ]
  },
  {
   "cell_type": "code",
   "execution_count": 28,
   "metadata": {},
   "outputs": [
    {
     "data": {
      "text/plain": [
       "{'A': 0, 'B': 1, 'C': 2, 'D': 3, 'E': 4, 'F': 5, 'G': 6, 'H': 7}"
      ]
     },
     "execution_count": 28,
     "metadata": {},
     "output_type": "execute_result"
    }
   ],
   "source": [
    "row_names=[\"A\",\"B\",\"C\",\"D\",\"E\",\"F\",\"G\",\"H\"]\n",
    "row_map=dict(zip(row_names,range(len(row_names))))\n",
    "row_map"
   ]
  },
  {
   "cell_type": "code",
   "execution_count": 29,
   "metadata": {},
   "outputs": [
    {
     "data": {
      "text/plain": [
       "{'0': 0, '1': 1, '2': 2, '3': 3, '4': 4, '5': 5, '6': 6, '7': 7}"
      ]
     },
     "execution_count": 29,
     "metadata": {},
     "output_type": "execute_result"
    }
   ],
   "source": [
    "column_names=map(str,range(8))\n",
    "column_map=dict(zip(column_names,range(len(column_names))))\n",
    "column_map\n"
   ]
  },
  {
   "cell_type": "code",
   "execution_count": 30,
   "metadata": {
    "collapsed": true
   },
   "outputs": [],
   "source": [
    "def draw_board(board):\n",
    "    print \" \",\n",
    "    for j in range(8):\n",
    "        print column_names[j],\n",
    "    print\n",
    "    \n",
    "    for i in range(8):\n",
    "        print row_names[i],\n",
    "        for j in range(8):\n",
    "            print space_character(board[i][j]),\n",
    "        print"
   ]
  },
  {
   "cell_type": "code",
   "execution_count": 31,
   "metadata": {},
   "outputs": [
    {
     "name": "stdout",
     "output_type": "stream",
     "text": [
      "  0 1 2 3 4 5 6 7\n",
      "A   X   X   X   X\n",
      "B X   X   X   X  \n",
      "C       X   X   X\n",
      "D                \n",
      "E                \n",
      "F O   O   X   O  \n",
      "G   O   O   O   O\n",
      "H O   O   O   O  \n"
     ]
    }
   ],
   "source": [
    "draw_board(board_0)"
   ]
  },
  {
   "cell_type": "code",
   "execution_count": 32,
   "metadata": {
    "collapsed": true
   },
   "outputs": [],
   "source": [
    "def parse_location(l_string):\n",
    "    if not isinstance(l_string,str):\n",
    "        print_message(\"Bad Input. Location must be string.\")\n",
    "        return None\n",
    "    \n",
    "    if len(l_string)!=2:\n",
    "        print_message(\"Bad Input. Location must be 2 characters.\")\n",
    "        return None\n",
    "    \n",
    "    row=l_string[0].upper()\n",
    "    col=l_string[1].upper()\n",
    "    \n",
    "    if not row in row_names:\n",
    "        print_message(\"Bad Row.\")\n",
    "        return None\n",
    "\n",
    "    if not col in column_names:\n",
    "        print_message(\"Bad Column.\")\n",
    "        return None\n",
    "\n",
    "    return row_map[row],column_map[col]\n",
    "    "
   ]
  },
  {
   "cell_type": "code",
   "execution_count": 33,
   "metadata": {},
   "outputs": [
    {
     "data": {
      "text/plain": [
       "(2, 3)"
      ]
     },
     "execution_count": 33,
     "metadata": {},
     "output_type": "execute_result"
    }
   ],
   "source": [
    "parse_location(\"C3\")"
   ]
  },
  {
   "cell_type": "code",
   "execution_count": 34,
   "metadata": {},
   "outputs": [],
   "source": [
    "def parse_move(m_string):\n",
    "    if not isinstance(m_string,str):\n",
    "        print_message(\"Bad Input. Location must be string.\")\n",
    "        return None\n",
    "    \n",
    "    if len(m_string)!=1:\n",
    "        print_message(\"Bad Input. Location must be 1 character.\")\n",
    "        return None\n",
    "    \n",
    "    if m_string.upper()==\"L\":\n",
    "        return left_move\n",
    "\n",
    "    if m_string.upper()==\"R\":\n",
    "        return right_move\n",
    "\n",
    "    print_message(\"Bad Move. must be R/L.\")\n",
    "    \n",
    "    return -1\n"
   ]
  },
  {
   "cell_type": "code",
   "execution_count": 35,
   "metadata": {},
   "outputs": [],
   "source": [
    "def nice_move_piece(board,player,location,move):\n",
    "    loc=parse_location(location)\n",
    "    mov=parse_move(move)\n",
    "    print loc,mov\n",
    "    if loc and mov!=-1:\n",
    "        board=move_piece(board,player,loc,mov)\n",
    "    else:\n",
    "        print_message(\"Bad move.\")\n",
    "        \n",
    "    return board\n",
    "    "
   ]
  },
  {
   "cell_type": "code",
   "execution_count": 36,
   "metadata": {},
   "outputs": [
    {
     "name": "stdout",
     "output_type": "stream",
     "text": [
      "  0 1 2 3 4 5 6 7\n",
      "A   X   X   X   X\n",
      "B X   X   X   X  \n",
      "C       X   X   X\n",
      "D                \n",
      "E                \n",
      "F O   O   X   O  \n",
      "G   O   O   O   O\n",
      "H O   O   O   O  \n",
      "(2, 3) 0\n",
      "Moved.\n"
     ]
    }
   ],
   "source": [
    "draw_board(board_0)\n",
    "board_0=nice_move_piece(board_0,player_1,\"C3\",\"L\")"
   ]
  },
  {
   "cell_type": "code",
   "execution_count": 37,
   "metadata": {},
   "outputs": [],
   "source": [
    "def take_move(board,player):\n",
    "    loc_str=None\n",
    "    mov_str=None\n",
    "\n",
    "    while not (isinstance(loc_str,str) and isinstance(mov_str,str)):\n",
    "        loc_str =raw_input(\"Input location:\")\n",
    "        mov_str =raw_input(\"Input move (L/R):\")\n",
    "            \n",
    "        nice_move_piece(board_0,player_1,loc_str,mov_str)\n",
    "        \n",
    "        "
   ]
  },
  {
   "cell_type": "code",
   "execution_count": 191,
   "metadata": {},
   "outputs": [
    {
     "name": "stdout",
     "output_type": "stream",
     "text": [
      "  0 1 2 3 4 5 6 7\n",
      "A   X   X   X   X\n",
      "B X   X   X   X  \n",
      "C   X   X   X   X\n",
      "D                \n",
      "E                \n",
      "F O   O   O   O  \n",
      "G   O   O   O   O\n",
      "H O   O   O   O  \n",
      "Input location:C1\n",
      "Input move (L/R):L\n",
      "(2, 1) 0\n",
      "Moved.\n",
      "  0 1 2 3 4 5 6 7\n",
      "A   X   X   X   X\n",
      "B X   X   X   X  \n",
      "C       X   X   X\n",
      "D     X          \n",
      "E                \n",
      "F O   O   O   O  \n",
      "G   O   O   O   O\n",
      "H O   O   O   O  \n"
     ]
    }
   ],
   "source": [
    "board_0=make_game_board()\n",
    "draw_board(board_0)\n",
    "take_move(board_0,player_1)\n",
    "draw_board(board_0)"
   ]
  },
  {
   "cell_type": "code",
   "execution_count": 192,
   "metadata": {
    "collapsed": true
   },
   "outputs": [],
   "source": [
    "def game_done(board):\n",
    "    player_1_n=0\n",
    "    player_2_n=0\n",
    "    for i in range(8):\n",
    "        for j in range(8):\n",
    "            if board[i][j]==player_1:\n",
    "                player_1_n+=1\n",
    "            if board[i][j]==player_2:\n",
    "                player_2_n+=1\n",
    "                \n",
    "    return player_1_n==0 or player_2_n==0\n"
   ]
  },
  {
   "cell_type": "code",
   "execution_count": 198,
   "metadata": {},
   "outputs": [],
   "source": [
    "def count_pieces(board,player):\n",
    "    n=0\n",
    "    for i in range(8):\n",
    "        for j in range(8):\n",
    "            if board[i][j]==player:\n",
    "                n+=1                \n",
    "    return n\n",
    "\n",
    "\n",
    "def game_won(board):\n",
    "    player_1_n=count_pieces(board,player_1)\n",
    "    player_2_n=count_pieces(board,player_2)\n",
    "\n",
    "    if player_1_n==0:\n",
    "        return player_2\n",
    "    if player_1_n==0:\n",
    "        return player_1\n",
    "\n",
    "    return 0\n"
   ]
  },
  {
   "cell_type": "code",
   "execution_count": 199,
   "metadata": {},
   "outputs": [],
   "source": [
    "def checkers_game():\n",
    "    \n",
    "    print \"Welcome to Checkers.\"\n",
    "    print \"--------------------\"\n",
    "\n",
    "    board_0=make_game_board()\n",
    "    \n",
    "    \n",
    "    this_game_won=0\n",
    "    player=player_1\n",
    "    while not this_game_won:\n",
    "\n",
    "        draw_board(board)\n",
    "        print \"Player\",player,\"move:\"\n",
    "        take_move(board_0,player)\n",
    "          \n",
    "        if player==player_1:\n",
    "            player=player_2\n",
    "        else:\n",
    "            player=player_1\n",
    "            \n",
    "        this_game_won=game_won(board)\n",
    "          "
   ]
  },
  {
   "cell_type": "code",
   "execution_count": null,
   "metadata": {},
   "outputs": [
    {
     "name": "stdout",
     "output_type": "stream",
     "text": [
      "Welcome to Checkers.\n",
      "--------------------\n",
      "  0 1 2 3 4 5 6 7\n",
      "A   X   X   X   X\n",
      "B X   X   X   X  \n",
      "C   X   X   X   X\n",
      "D                \n",
      "E   O            \n",
      "F     O   O   O  \n",
      "G   O   O   O   O\n",
      "H O   O   O   O  \n",
      "Player 1 move:\n",
      "Input location:C1\n",
      "Input move (L/R):L\n",
      "(2, 1) 0\n",
      "Player does not have piece at location.\n",
      "  0 1 2 3 4 5 6 7\n",
      "A   X   X   X   X\n",
      "B X   X   X   X  \n",
      "C   X   X   X   X\n",
      "D                \n",
      "E   O            \n",
      "F     O   O   O  \n",
      "G   O   O   O   O\n",
      "H O   O   O   O  \n",
      "Player 2 move:\n"
     ]
    }
   ],
   "source": [
    "checkers_game()"
   ]
  },
  {
   "cell_type": "code",
   "execution_count": null,
   "metadata": {
    "collapsed": true
   },
   "outputs": [],
   "source": []
  }
 ],
 "metadata": {
  "kernelspec": {
   "display_name": "Python 2",
   "language": "python",
   "name": "python2"
  },
  "language_info": {
   "codemirror_mode": {
    "name": "ipython",
    "version": 2
   },
   "file_extension": ".py",
   "mimetype": "text/x-python",
   "name": "python",
   "nbconvert_exporter": "python",
   "pygments_lexer": "ipython2",
   "version": "2.7.13"
  }
 },
 "nbformat": 4,
 "nbformat_minor": 2
}
