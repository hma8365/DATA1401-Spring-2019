{
 "cells": [
  {
   "cell_type": "code",
   "execution_count": 25,
   "metadata": {},
   "outputs": [],
   "source": [
    "from gradebook import *"
   ]
  },
  {
   "cell_type": "code",
   "execution_count": 97,
   "metadata": {},
   "outputs": [],
   "source": [
    "class curved_letter_grader(grade_calculator):\n",
    "    __max_grade = 100.\n",
    "   \n",
    "    def __init__(self,grade_name,grade_mean,grade_stdev):\n",
    "        self.__grade_name = grade_name\n",
    "        self.__grade_mean = grade_mean\n",
    "        self.__grade_stdev = grade_stdev\n",
    "        grade_calculator.__init__(self,\"Curved Letter Grade Calculator\"+self.__grade_name,False)\n",
    "        \n",
    "        self.__grades_definition = [((self.__grade_mean+self.__grade_stdev),\"A\"),\n",
    "                               ((self.__grade_mean),\"B\"),\n",
    "                               ((self.__grade_mean-self.__grade_stdev,\"C\")),\n",
    "                               ((self.__grade_mean-2.*self.__grade_stdev),\"D\"),\n",
    "                               ((self.__grade_mean-3.*self.__grade_stdev),\"F\")]\n",
    "  \n",
    "    def apply(self,a_grade):\n",
    "        if not isinstance(a_grade,grade):\n",
    "            print isinstance(a_grade,grade)\n",
    "            print self.name()+ \" Error: Did not get an proper grade as input.\"\n",
    "            raise Exception\n",
    "        if not a_grade.numerical():\n",
    "            print self.name()+ \" Error: Did not get a numerical grade as input.\"\n",
    "            raise Exception\n",
    "\n",
    "        grade_val = str()\n",
    "        for i,v in enumerate(self.__grades_definition):\n",
    "            if a_grade.value()>=v[0]:\n",
    "                break\n",
    "        \n",
    "        return grade(self.__grade_name,value=self.__grades_definition[i][1])\n"
   ]
  },
  {
   "cell_type": "code",
   "execution_count": 98,
   "metadata": {},
   "outputs": [],
   "source": [
    "exam_1_grade = grade(\"Exam 1\",numerical = True,value = 89.0)"
   ]
  },
  {
   "cell_type": "code",
   "execution_count": 99,
   "metadata": {},
   "outputs": [],
   "source": [
    "a = curved_letter_grader(\"Exam 1 grade\",89.0,10.0)"
   ]
  },
  {
   "cell_type": "code",
   "execution_count": 100,
   "metadata": {
    "scrolled": true
   },
   "outputs": [
    {
     "name": "stdout",
     "output_type": "stream",
     "text": [
      "Exam 1 grade: B\n"
     ]
    }
   ],
   "source": [
    "b = a.apply(exam_1_grade)\n",
    "print b"
   ]
  },
  {
   "cell_type": "code",
   "execution_count": 101,
   "metadata": {},
   "outputs": [
    {
     "name": "stdout",
     "output_type": "stream",
     "text": [
      "Exam 1 grade: D\n"
     ]
    }
   ],
   "source": [
    "exam_1_grade2 = grade(\"Exam 1\",numerical = True,value = 78.0)\n",
    "a2 = curved_letter_grader(\"Exam 1 grade\",89.0,10.0)\n",
    "b2 = a.apply(exam_1_grade2)\n",
    "print b2"
   ]
  },
  {
   "cell_type": "code",
   "execution_count": 103,
   "metadata": {},
   "outputs": [
    {
     "name": "stdout",
     "output_type": "stream",
     "text": [
      "Exam 1 grade: A\n"
     ]
    }
   ],
   "source": [
    "exam_1_grade3 = grade(\"Exam 1\",numerical = True,value = 100.0)\n",
    "a3 = curved_letter_grader(\"Exam 1 grade\",89.0,10.0)\n",
    "b3 = a.apply(exam_1_grade3)\n",
    "print b3"
   ]
  },
  {
   "cell_type": "code",
   "execution_count": 104,
   "metadata": {},
   "outputs": [
    {
     "name": "stdout",
     "output_type": "stream",
     "text": [
      "Exam 1 grade: C\n"
     ]
    }
   ],
   "source": [
    "exam_1_grade4 = grade(\"Exam 1\",numerical = True,value = 82.0)\n",
    "a4 = curved_letter_grader(\"Exam 1 grade\",89.0,10.0)\n",
    "b4 = a.apply(exam_1_grade4)\n",
    "print b4"
   ]
  },
  {
   "cell_type": "code",
   "execution_count": 105,
   "metadata": {},
   "outputs": [
    {
     "name": "stdout",
     "output_type": "stream",
     "text": [
      "Exam 1 grade: F\n"
     ]
    }
   ],
   "source": [
    "exam_1_grade5 = grade(\"Exam 1\",numerical = True,value = 55.0)\n",
    "a5 = curved_letter_grader(\"Exam 1 grade\",89.0,10.0)\n",
    "b5 = a.apply(exam_1_grade5)\n",
    "print b5"
   ]
  },
  {
   "cell_type": "code",
   "execution_count": null,
   "metadata": {},
   "outputs": [],
   "source": []
  }
 ],
 "metadata": {
  "kernelspec": {
   "display_name": "Python 2",
   "language": "python",
   "name": "python2"
  },
  "language_info": {
   "codemirror_mode": {
    "name": "ipython",
    "version": 2
   },
   "file_extension": ".py",
   "mimetype": "text/x-python",
   "name": "python",
   "nbconvert_exporter": "python",
   "pygments_lexer": "ipython2",
   "version": "2.7.15"
  }
 },
 "nbformat": 4,
 "nbformat_minor": 2
}
