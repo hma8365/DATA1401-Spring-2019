{
 "cells": [
  {
   "cell_type": "code",
   "execution_count": 81,
   "metadata": {
    "collapsed": true
   },
   "outputs": [],
   "source": [
    "import math\n",
    "import random\n",
    "\n",
    "def generate_normal(N):\n",
    "    out = list()\n",
    "    #Write your solution here \n",
    "    N = N/2 #so we can use both and append only as many as are asked of us\n",
    "    for i in range(N):\n",
    "        U1 = random.random()\n",
    "        U2 = random.random()\n",
    "        z0 = math.sqrt((-2)*math.log(U1)) * math.cos(2*math.pi*U2)\n",
    "        z1 = math.sqrt((-2)*math.log(U1)) * math.sin(2*math.pi*U2)\n",
    "        out.append(z0)\n",
    "        out.append(z1)\n",
    "    return out\n"
   ]
  },
  {
   "cell_type": "code",
   "execution_count": 82,
   "metadata": {},
   "outputs": [],
   "source": [
    "def mean(x):\n",
    "    return sum(x)/float(len(x))\n",
    "def variance(x):\n",
    "    return sum(map(lambda y: y**2,x))/float(len(x))-mean(x)**2"
   ]
  },
  {
   "cell_type": "code",
   "execution_count": 98,
   "metadata": {},
   "outputs": [
    {
     "name": "stdout",
     "output_type": "stream",
     "text": [
      "-0.0399515472251\n",
      "0.990255236195\n",
      "1000\n"
     ]
    }
   ],
   "source": [
    "x = generate_normal(1000)\n",
    "print mean(x)\n",
    "print variance(x)"
   ]
  }
 ],
 "metadata": {
  "kernelspec": {
   "display_name": "Python 2",
   "language": "python",
   "name": "python2"
  },
  "language_info": {
   "codemirror_mode": {
    "name": "ipython",
    "version": 2
   },
   "file_extension": ".py",
   "mimetype": "text/x-python",
   "name": "python",
   "nbconvert_exporter": "python",
   "pygments_lexer": "ipython2",
   "version": "2.7.13"
  }
 },
 "nbformat": 4,
 "nbformat_minor": 2
}
